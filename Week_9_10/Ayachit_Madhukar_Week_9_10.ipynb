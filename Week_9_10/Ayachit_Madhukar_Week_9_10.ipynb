{
 "cells": [
  {
   "cell_type": "markdown",
   "metadata": {},
   "source": [
    "## Week 9-10\n",
    "\n",
    "## Name         : Ayachit Madhukar  \n",
    "## Course       : DSC540 \n",
    "## Instructor  : Catherine Williams\n",
    "## Date           : 16 May 2021"
   ]
  },
  {
   "cell_type": "code",
   "execution_count": 361,
   "metadata": {},
   "outputs": [],
   "source": [
    "## Setting up environemnt\n",
    "import os\n",
    "os.getcwd() \n",
    "import sys\n",
    "sys.path.append('../data')"
   ]
  },
  {
   "cell_type": "code",
   "execution_count": 362,
   "metadata": {},
   "outputs": [],
   "source": [
    "## loading required libraries/modules\n",
    "import pandas as pd\n",
    "import numpy as np\n",
    "import matplotlib.pyplot as plt\n",
    "\n",
    "%matplotlib inline"
   ]
  },
  {
   "cell_type": "code",
   "execution_count": 363,
   "metadata": {},
   "outputs": [
    {
     "data": {
      "text/plain": [
       "'/Users/madhukarayachit/DSC540/Excercise'"
      ]
     },
     "execution_count": 363,
     "metadata": {},
     "output_type": "execute_result"
    }
   ],
   "source": [
    "os.getcwd() "
   ]
  },
  {
   "cell_type": "markdown",
   "metadata": {},
   "source": [
    "### Activity 9: Extracting the Top 100 eBooks from Gutenberg"
   ]
  },
  {
   "cell_type": "markdown",
   "metadata": {},
   "source": [
    "### Task 1\n",
    "Import the necessary libraries, including regex and beautifulsoup.\n"
   ]
  },
  {
   "cell_type": "code",
   "execution_count": 364,
   "metadata": {},
   "outputs": [],
   "source": [
    "import urllib.request, urllib.parse, urllib.error\n",
    "import requests\n",
    "from bs4 import BeautifulSoup\n",
    "import ssl\n",
    "import re"
   ]
  },
  {
   "cell_type": "markdown",
   "metadata": {},
   "source": [
    "### Task 2\n",
    "Check the SSL certificate."
   ]
  },
  {
   "cell_type": "code",
   "execution_count": 298,
   "metadata": {},
   "outputs": [],
   "source": [
    "# Ignore SSL certificate errors\n",
    "ctx = ssl.create_default_context()\n",
    "ctx.check_hostname = False\n",
    "ctx.verify_mode = ssl.CERT_NONE"
   ]
  },
  {
   "cell_type": "markdown",
   "metadata": {},
   "source": [
    "### Task 3\n",
    "Read the HTML from the URL.\n",
    "\n"
   ]
  },
  {
   "cell_type": "code",
   "execution_count": 300,
   "metadata": {},
   "outputs": [
    {
     "data": {
      "text/plain": [
       "<Response [200]>"
      ]
     },
     "execution_count": 300,
     "metadata": {},
     "output_type": "execute_result"
    }
   ],
   "source": [
    "top100url = 'https://www.gutenberg.org/browse/scores/top'\n",
    "response = requests.get(top100url)\n",
    "response"
   ]
  },
  {
   "cell_type": "markdown",
   "metadata": {},
   "source": [
    "### Task 4\n",
    "Write a small function to check the status of the web request.\n"
   ]
  },
  {
   "cell_type": "code",
   "execution_count": 301,
   "metadata": {},
   "outputs": [],
   "source": [
    "def status_check(r):\n",
    "    if r.status_code==200:\n",
    "        print(\"Success!\")\n",
    "        return 1\n",
    "    else:\n",
    "        print(\"Failed!\")\n",
    "        return -1"
   ]
  },
  {
   "cell_type": "code",
   "execution_count": 302,
   "metadata": {},
   "outputs": [
    {
     "name": "stdout",
     "output_type": "stream",
     "text": [
      "Success!\n"
     ]
    },
    {
     "data": {
      "text/plain": [
       "1"
      ]
     },
     "execution_count": 302,
     "metadata": {},
     "output_type": "execute_result"
    }
   ],
   "source": [
    "status_check(response)"
   ]
  },
  {
   "cell_type": "markdown",
   "metadata": {},
   "source": [
    "### Task 5\n",
    "Decode the response and pass this on to BeautifulSoup for HTML parsing.\n"
   ]
  },
  {
   "cell_type": "code",
   "execution_count": 303,
   "metadata": {},
   "outputs": [],
   "source": [
    "contents = response.content.decode(response.encoding)"
   ]
  },
  {
   "cell_type": "code",
   "execution_count": 305,
   "metadata": {},
   "outputs": [
    {
     "data": {
      "text/plain": [
       "<!DOCTYPE html>\n",
       "\n",
       "<html class=\"client-nojs\" dir=\"ltr\" lang=\"en\">\n",
       "<head>\n",
       "<meta charset=\"utf-8\"/>\n",
       "<title>Top 100 | Project Gutenberg</title>\n",
       "<link href=\"/gutenberg/style.css?v=1.1\" rel=\"stylesheet\"/>\n",
       "<link href=\"/gutenberg/collapsible.css?1.1\" rel=\"stylesheet\"/>\n",
       "<link href=\"/gutenberg/new_nav.css?v=1.321231\" rel=\"stylesheet\"/>\n",
       "<link href=\"/gutenberg/pg-desktop-one.css\" rel=\"stylesheet\"/>\n",
       "<meta content=\"width=device-width, initial-scale=1\" name=\"viewport\"/>\n",
       "<meta content=\"books, ebooks, free, kindle, android, iphone, ipad\" name=\"keywords\">\n",
       "<meta content=\"wucOEvSnj5kP3Ts_36OfP64laakK-1mVTg-ptrGC9io\" name=\"google-site-verification\"/>\n",
       "<meta content=\"4WNaCljsE-A82vP_ih2H_UqXZvM\" name=\"alexaVerifyID\"/>\n",
       "<link href=\"https://www.gnu.org/copyleft/fdl.html\" rel=\"copyright\">\n",
       "<link href=\"/gutenberg/favicon.ico?v=1.1\" rel=\"shortcut icon\">\n",
       "<meta content=\"Project Gutenberg\" property=\"og:title\"/>\n",
       "<meta content=\"website\" property=\"og:type\"/>\n",
       "<meta content=\"https://www.gutenberg.org/\" property=\"og:url\"/>\n",
       "<meta content=\"Project Gutenberg is a library of free eBooks.\" property=\"og:description\"/>\n",
       "<meta content=\"615269807\" property=\"fb:admins\"/>\n",
       "<meta content=\"115319388529183\" property=\"fb:app_id\"/>\n",
       "<meta content=\"Project Gutenberg\" property=\"og:site_name\"/>\n",
       "<meta content=\"https://www.gutenberg.org/gutenberg/pg-logo-144x144.png\" property=\"og:image\"/>\n",
       "</link></link></meta></head>\n",
       "<body>\n",
       "<div class=\"container\"><!-- start body --><nav>\n",
       "<!--<div id=\"main_logo\"> -->\n",
       "<a class=\"no-hover\" href=\"/\" id=\"main_logo\">\n",
       "<img alt=\"Project Gutenberg\" draggable=\"false\" src=\"/gutenberg/pg-logo-129x80.png\"/>\n",
       "</a>\n",
       "<!--\t</div>-->\n",
       "<div id=\"menu\">\n",
       "<label for=\"tm\" id=\"toggle-menu\">Menu<span class=\"drop-icon\">▾</span></label>\n",
       "<input id=\"tm\" type=\"checkbox\"/>\n",
       "<ul class=\"main-menu cf\">\n",
       "<li>\n",
       "<a href=\"/about/\">About\n",
       "          <span class=\"drop-icon\">▾</span>\n",
       "</a>\n",
       "<label class=\"drop-icon\" for=\"sm0\" title=\"Toggle Drop-down\">▾</label>\n",
       "<input id=\"sm0\" type=\"checkbox\"/>\n",
       "<ul class=\"sub-menu\">\n",
       "<li><a href=\"/about/\">About Project Gutenberg</a></li>\n",
       "<li><a href=\"/policy/collection_development.html\">Collection Development</a></li>\n",
       "<li><a href=\"/about/contact_information.html\">Contact Us</a></li>\n",
       "<li><a href=\"/about/background/\">History &amp; Philosophy</a></li>\n",
       "<li><a href=\"/policy/permission.html\">Permissions &amp; License</a></li>\n",
       "<li><a href=\"/policy/privacy_policy.html\">Privacy Policy</a></li>\n",
       "<li><a href=\"/policy/terms_of_use.html\">Terms of Use</a></li>\n",
       "</ul>\n",
       "</li>\n",
       "<li>\n",
       "<a href=\"/ebooks/\">Search and Browse\n",
       "      \t  <span class=\"drop-icon\">▾</span>\n",
       "</a>\n",
       "<label class=\"drop-icon\" for=\"sm8\" title=\"Toggle Drop-down\">▾</label>\n",
       "<input id=\"sm8\" type=\"checkbox\"/>\n",
       "<ul class=\"sub-menu\">\n",
       "<li><a href=\"/ebooks/\">Book Search</a></li>\n",
       "<li><a href=\"/ebooks/bookshelf/\">Bookshelves</a></li>\n",
       "<li><a href=\"/browse/scores/top\">Frequently Downloaded</a></li>\n",
       "<li><a href=\"/ebooks/offline_catalogs.html\">Offline Catalogs</a></li>\n",
       "</ul>\n",
       "</li>\n",
       "<li>\n",
       "<a href=\"/help/\">Help\n",
       "          <span class=\"drop-icon\">▾</span>\n",
       "</a>\n",
       "<label class=\"drop-icon\" for=\"sm3\" title=\"Toggle Drop-down\">▾</label>\n",
       "<input id=\"sm3\" type=\"checkbox\"/>\n",
       "<ul class=\"sub-menu\">\n",
       "<li><a href=\"/help/\">All help topics →</a></li>\n",
       "<li><a href=\"/help/copyright.html\">Copyright Procedures</a></li>\n",
       "<li><a href=\"/help/errata.html\">Errata, Fixes and Bug Reports</a></li>\n",
       "<li><a href=\"/help/file_formats.html\">File Formats</a></li>\n",
       "<li><a href=\"/help/faq.html\">Frequently Asked Questions</a></li>\n",
       "<li><a href=\"/policy/\">Policies →</a></li>\n",
       "<li><a href=\"/help/public_domain_ebook_submission.html\">Public Domain eBook Submission</a></li>\n",
       "<li><a href=\"/help/submitting_your_own_work.html\">Submitting Your Own Work</a></li>\n",
       "<li><a href=\"/help/mobile.html\">Tablets, Phones and eReaders</a></li>\n",
       "<li><a href=\"/attic/\">The Attic →</a></li>\n",
       "</ul>\n",
       "</li>\n",
       "<li><a href=\"/donate/\">Donate</a></li>\n",
       "</ul>\n",
       "</div>\n",
       "<div class=\"donate\">\n",
       "<div class=\"searchbox\">\n",
       "<form accept-charset=\"utf-8\" action=\"/ebooks/search/\" class=\"searchbox\" enctype=\"multipart/form-data\" method=\"get\">\n",
       "<input class=\"searchInput\" id=\"menu-book-search\" maxlength=\"80\" name=\"query\" placeholder=\"  Quick search\" size=\"20\" tabindex=\"20\" title=\"Quick search\" type=\"text\" value=\"\"/>\n",
       "<input name=\"submit_search\" style=\"vertical-align:middle;\" type=\"submit\" value=\"Go!\"/>\n",
       "</form>\n",
       "</div>\n",
       "<form action=\"https://www.paypal.com/cgi-bin/webscr\" class=\"donatelink\" method=\"post\" target=\"new\">\n",
       "<p><a href=\"/donate/\">Donation</a></p>\n",
       "<input name=\"cmd\" type=\"hidden\" value=\"_s-xclick\"/>\n",
       "<input name=\"hosted_button_id\" type=\"hidden\" value=\"XKAL6BZL3YPSN\"/>\n",
       "<input alt=\"Donate via PayPal\" class=\"donbtn\" name=\"submit\" src=\"/pics/en_US.gif\" type=\"image\"/>\n",
       "</form>\n",
       "</div>\n",
       "</nav>\n",
       "<div class=\"page_content\"><!-- start content -->\n",
       "<h1>Frequently Viewed or Downloaded</h1>\n",
       "<p>These listings are based on the number of times each eBook gets downloaded.\n",
       "      Multiple downloads from the same Internet address on the same day count as one download, and addresses that download more than 100 eBooks in a day are considered robots and are not counted.</p>\n",
       "<table>\n",
       "<caption>Downloaded Books</caption>\n",
       "<tr><th>2021-05-15</th><td class=\"right\">133040</td></tr>\n",
       "<tr><th>last 7 days</th><td class=\"right\">1105659</td></tr>\n",
       "<tr><th>last 30 days</th><td class=\"right\">4879416</td></tr>\n",
       "</table>\n",
       "<div class=\"padded\">\n",
       "<ul>\n",
       "<li><a href=\"#books-last1\">Top 100 EBooks yesterday</a></li>\n",
       "<li><a href=\"#authors-last1\">Top 100 Authors yesterday</a></li>\n",
       "<li><a href=\"#books-last7\">Top 100 EBooks last 7 days</a></li>\n",
       "<li><a href=\"#authors-last7\">Top 100 Authors last 7 days</a></li>\n",
       "<li><a href=\"#books-last30\">Top 100 EBooks last 30 days</a></li>\n",
       "<li><a href=\"#authors-last30\">Top 100 Authors last 30 days</a></li>\n",
       "</ul>\n",
       "</div>\n",
       "<h2 id=\"books-last1\">Top 100 EBooks yesterday</h2>\n",
       "<ol>\n",
       "<li><a href=\"/ebooks/1342\">Pride and Prejudice by Jane Austen (1261)</a></li>\n",
       "<li><a href=\"/ebooks/84\">Frankenstein; Or, The Modern Prometheus by Mary Wollstonecraft Shelley (1053)</a></li>\n",
       "<li><a href=\"/ebooks/11\">Alice's Adventures in Wonderland by Lewis Carroll (678)</a></li>\n",
       "<li><a href=\"/ebooks/98\">A Tale of Two Cities by Charles Dickens (586)</a></li>\n",
       "<li><a href=\"/ebooks/2701\">Moby Dick; Or, The Whale by Herman Melville (538)</a></li>\n",
       "<li><a href=\"/ebooks/1661\">The Adventures of Sherlock Holmes by Arthur Conan Doyle (537)</a></li>\n",
       "<li><a href=\"/ebooks/174\">The Picture of Dorian Gray by Oscar Wilde (490)</a></li>\n",
       "<li><a href=\"/ebooks/57775\">Le jardin des supplices by Octave Mirbeau (469)</a></li>\n",
       "<li><a href=\"/ebooks/64317\">The Great Gatsby by F. Scott  Fitzgerald (468)</a></li>\n",
       "<li><a href=\"/ebooks/74\">The Adventures of Tom Sawyer, Complete by Mark Twain (425)</a></li>\n",
       "<li><a href=\"/ebooks/65341\">Treatise on Poisons by Sir Robert Christison (422)</a></li>\n",
       "<li><a href=\"/ebooks/844\">The Importance of Being Earnest: A Trivial Comedy for Serious People by Oscar Wilde (391)</a></li>\n",
       "<li><a href=\"/ebooks/205\">Walden, and On The Duty Of Civil Disobedience by Henry David Thoreau (384)</a></li>\n",
       "<li><a href=\"/ebooks/46\">A Christmas Carol in Prose; Being a Ghost Story of Christmas by Charles Dickens (367)</a></li>\n",
       "<li><a href=\"/ebooks/2591\">Grimms' Fairy Tales by Jacob Grimm and Wilhelm Grimm (357)</a></li>\n",
       "<li><a href=\"/ebooks/345\">Dracula by Bram Stoker (339)</a></li>\n",
       "<li><a href=\"/ebooks/43\">The Strange Case of Dr. Jekyll and Mr. Hyde by Robert Louis Stevenson (334)</a></li>\n",
       "<li><a href=\"/ebooks/1260\">Jane Eyre: An Autobiography by Charlotte Brontë (334)</a></li>\n",
       "<li><a href=\"/ebooks/65337\">The Age of Justinian and Theodora: A History of the Sixth Century A.D., Volume 1. by Holmes (320)</a></li>\n",
       "<li><a href=\"/ebooks/5200\">Metamorphosis by Franz Kafka (316)</a></li>\n",
       "<li><a href=\"/ebooks/1400\">Great Expectations by Charles Dickens (314)</a></li>\n",
       "<li><a href=\"/ebooks/4300\">Ulysses by James Joyce (313)</a></li>\n",
       "<li><a href=\"/ebooks/16\">Peter Pan by J. M.  Barrie (303)</a></li>\n",
       "<li><a href=\"/ebooks/2600\">War and Peace by graf Leo Tolstoy (301)</a></li>\n",
       "<li><a href=\"/ebooks/76\">Adventures of Huckleberry Finn by Mark Twain (298)</a></li>\n",
       "<li><a href=\"/ebooks/766\">David Copperfield by Charles Dickens (296)</a></li>\n",
       "<li><a href=\"/ebooks/219\">Heart of Darkness by Joseph Conrad (280)</a></li>\n",
       "<li><a href=\"/ebooks/1952\">The Yellow Wallpaper by Charlotte Perkins Gilman (280)</a></li>\n",
       "<li><a href=\"/ebooks/1232\">Il Principe. English by Niccolò Machiavelli (279)</a></li>\n",
       "<li><a href=\"/ebooks/2542\">Et dukkehjem. English by Henrik Ibsen (276)</a></li>\n",
       "<li><a href=\"/ebooks/5740\">Tractatus Logico-Philosophicus by Ludwig Wittgenstein (276)</a></li>\n",
       "<li><a href=\"/ebooks/2852\">The Hound of the Baskervilles by Arthur Conan Doyle (263)</a></li>\n",
       "<li><a href=\"/ebooks/158\">Emma by Jane Austen (258)</a></li>\n",
       "<li><a href=\"/ebooks/1080\">A Modest Proposal by Jonathan Swift (256)</a></li>\n",
       "<li><a href=\"/ebooks/768\">Wuthering Heights by Emily Brontë (252)</a></li>\n",
       "<li><a href=\"/ebooks/65339\">Vengeances Corses by comte Pierre Paul Raoul Colonna de Cesari-Rocca (250)</a></li>\n",
       "<li><a href=\"/ebooks/55\">The Wonderful Wizard of Oz by L. Frank  Baum (244)</a></li>\n",
       "<li><a href=\"/ebooks/45\">Anne of Green Gables by L. M.  Montgomery (239)</a></li>\n",
       "<li><a href=\"/ebooks/35899\">The Philippines a Century Hence by José Rizal (232)</a></li>\n",
       "<li><a href=\"/ebooks/65335\">Arms and Armor of the Pilgrims, 1620-1692 by Harold L.  Peterson (228)</a></li>\n",
       "<li><a href=\"/ebooks/6130\">The Iliad by Homer (221)</a></li>\n",
       "<li><a href=\"/ebooks/120\">Treasure Island by Robert Louis Stevenson (219)</a></li>\n",
       "<li><a href=\"/ebooks/65345\">Under Three Flags by Bert Leston Taylor and Alvin T. Thoits (216)</a></li>\n",
       "<li><a href=\"/ebooks/58585\">The Prophet by Kahlil Gibran (215)</a></li>\n",
       "<li><a href=\"/ebooks/514\">Little Women by Louisa May Alcott (213)</a></li>\n",
       "<li><a href=\"/ebooks/1497\">The Republic by Plato (211)</a></li>\n",
       "<li><a href=\"/ebooks/2554\">Prestuplenie i nakazanie. English by Fyodor Dostoyevsky (207)</a></li>\n",
       "<li><a href=\"/ebooks/19797\">Dracula by Bram Stoker (207)</a></li>\n",
       "<li><a href=\"/ebooks/902\">The Happy Prince, and Other Tales by Oscar Wilde (205)</a></li>\n",
       "<li><a href=\"/ebooks/27827\">The Kama Sutra of Vatsyayana by Vatsyayana (204)</a></li>\n",
       "<li><a href=\"/ebooks/65343\">The Ambassador's Pet by Alexander Blade (203)</a></li>\n",
       "<li><a href=\"/ebooks/996\">Don Quixote by Miguel de Cervantes Saavedra (201)</a></li>\n",
       "<li><a href=\"/ebooks/1250\">Anthem by Ayn Rand (194)</a></li>\n",
       "<li><a href=\"/ebooks/35249\">A Japanese Boy by Shigemi Shiukichi (193)</a></li>\n",
       "<li><a href=\"/ebooks/135\">Les Misérables by Victor Hugo (189)</a></li>\n",
       "<li><a href=\"/ebooks/1184\">The Count of Monte Cristo, Illustrated by Alexandre Dumas (188)</a></li>\n",
       "<li><a href=\"/ebooks/25344\">The Scarlet Letter by Nathaniel Hawthorne (187)</a></li>\n",
       "<li><a href=\"/ebooks/1837\">The Prince and the Pauper by Mark Twain (184)</a></li>\n",
       "<li><a href=\"/ebooks/863\">The Mysterious Affair at Styles by Agatha Christie (184)</a></li>\n",
       "<li><a href=\"/ebooks/1727\">The Odyssey by Homer (181)</a></li>\n",
       "<li><a href=\"/ebooks/5739\">Korean—English Dictionary by Leon Kuperman (180)</a></li>\n",
       "<li><a href=\"/ebooks/30254\">The Romance of Lust: A classic Victorian erotic novel by Anonymous (177)</a></li>\n",
       "<li><a href=\"/ebooks/244\">A Study in Scarlet by Arthur Conan Doyle (176)</a></li>\n",
       "<li><a href=\"/ebooks/43453\">A Pickle for the Knowing Ones by Timothy Dexter (174)</a></li>\n",
       "<li><a href=\"/ebooks/203\">Uncle Tom's Cabin by Harriet Beecher Stowe (173)</a></li>\n",
       "<li><a href=\"/ebooks/63256\">The American Diary of a Japanese Girl by Yoné Noguchi (171)</a></li>\n",
       "<li><a href=\"/ebooks/829\">Gulliver's Travels into Several Remote Nations of the World by Jonathan Swift (169)</a></li>\n",
       "<li><a href=\"/ebooks/36\">The War of the Worlds by H. G.  Wells (168)</a></li>\n",
       "<li><a href=\"/ebooks/1399\">Anna Karenina by graf Leo Tolstoy (166)</a></li>\n",
       "<li><a href=\"/ebooks/2814\">Dubliners by James Joyce (161)</a></li>\n",
       "<li><a href=\"/ebooks/2500\">Siddhartha by Hermann Hesse (160)</a></li>\n",
       "<li><a href=\"/ebooks/730\">Oliver Twist by Charles Dickens (160)</a></li>\n",
       "<li><a href=\"/ebooks/3600\">Essays of Michel de Montaigne — Complete by Michel de Montaigne (160)</a></li>\n",
       "<li><a href=\"/ebooks/40068\">The Catholic World, Vol. 02, October, 1865 to March, 1866 by Various (159)</a></li>\n",
       "<li><a href=\"/ebooks/408\">The Souls of Black Folk by W. E. B.  Du Bois (157)</a></li>\n",
       "<li><a href=\"/ebooks/4363\">Beyond Good and Evil by Friedrich Wilhelm Nietzsche (157)</a></li>\n",
       "<li><a href=\"/ebooks/1998\">Also sprach Zarathustra. English by Friedrich Wilhelm Nietzsche (157)</a></li>\n",
       "<li><a href=\"/ebooks/236\">The Jungle Book by Rudyard Kipling (155)</a></li>\n",
       "<li><a href=\"/ebooks/17635\">Repertory of The Comedie Humaine, Complete, A — Z by Cerfberr and Christophe (155)</a></li>\n",
       "<li><a href=\"/ebooks/16328\">Beowulf: An Anglo-Saxon Epic Poem (145)</a></li>\n",
       "<li><a href=\"/ebooks/42108\">The Slang Dictionary: Etymological, Historical and Andecdotal by John Camden Hotten (143)</a></li>\n",
       "<li><a href=\"/ebooks/3825\">Pygmalion by Bernard Shaw (142)</a></li>\n",
       "<li><a href=\"/ebooks/65331\">The Cosmic Looters by Edmond Hamilton (142)</a></li>\n",
       "<li><a href=\"/ebooks/521\">The Life and Adventures of Robinson Crusoe by Daniel Defoe (141)</a></li>\n",
       "<li><a href=\"/ebooks/160\">The Awakening, and Selected Short Stories by Kate Chopin (141)</a></li>\n",
       "<li><a href=\"/ebooks/35\">The Time Machine by H. G.  Wells (140)</a></li>\n",
       "<li><a href=\"/ebooks/3623\">The Golden Bough: A Study of Magic and Religion by James George Frazer (139)</a></li>\n",
       "<li><a href=\"/ebooks/65347\">I'll See You In My Dreams by William Campbell Gault (138)</a></li>\n",
       "<li><a href=\"/ebooks/8800\">An Index of The Divine Comedy by Dante by Dante Alighieri (138)</a></li>\n",
       "<li><a href=\"/ebooks/6133\">Arsène Lupin, gentleman-cambrioleur. English by Maurice Leblanc (138)</a></li>\n",
       "<li><a href=\"/ebooks/10007\">Carmilla by Joseph Sheridan Le Fanu (136)</a></li>\n",
       "<li><a href=\"/ebooks/65336\">The Personal Relation in Industry by Jr.  John D. Rockefeller (135)</a></li>\n",
       "<li><a href=\"/ebooks/972\">The Devil's Dictionary by Ambrose Bierce (135)</a></li>\n",
       "<li><a href=\"/ebooks/113\">The Secret Garden by Frances Hodgson Burnett (134)</a></li>\n",
       "<li><a href=\"/ebooks/3207\">Leviathan by Thomas Hobbes (133)</a></li>\n",
       "<li><a href=\"/ebooks/26184\">Simple Sabotage Field Manual by United States. Office of Strategic Services (133)</a></li>\n",
       "<li><a href=\"/ebooks/33283\">Calculus Made Easy by Silvanus P.  Thompson (132)</a></li>\n",
       "<li><a href=\"/ebooks/100\">The Complete Works of William Shakespeare by William Shakespeare (131)</a></li>\n",
       "<li><a href=\"/ebooks/215\">The Call of the Wild by Jack London (126)</a></li>\n",
       "<li><a href=\"/ebooks/161\">Sense and Sensibility by Jane Austen (124)</a></li>\n",
       "</ol>\n",
       "<div class=\"padded\">\n",
       "<ul>\n",
       "<li><a href=\"#books-last1\">Top 100 EBooks yesterday</a></li>\n",
       "<li><a href=\"#authors-last1\">Top 100 Authors yesterday</a></li>\n",
       "<li><a href=\"#books-last7\">Top 100 EBooks last 7 days</a></li>\n",
       "<li><a href=\"#authors-last7\">Top 100 Authors last 7 days</a></li>\n",
       "<li><a href=\"#books-last30\">Top 100 EBooks last 30 days</a></li>\n",
       "<li><a href=\"#authors-last30\">Top 100 Authors last 30 days</a></li>\n",
       "</ul>\n",
       "</div>\n",
       "<h2 id=\"authors-last1\">Top 100 Authors yesterday</h2>\n",
       "<ol>\n",
       "<li><a href=\"/browse/authors/d#a37\">Dickens, Charles (2644)</a></li>\n",
       "<li><a href=\"/browse/authors/a#a68\">Austen, Jane (2140)</a></li>\n",
       "<li><a href=\"/browse/authors/t#a53\">Twain, Mark (1952)</a></li>\n",
       "<li><a href=\"/browse/authors/d#a69\">Doyle, Arthur Conan (1643)</a></li>\n",
       "<li><a href=\"/browse/authors/w#a111\">Wilde, Oscar (1453)</a></li>\n",
       "<li><a href=\"/browse/authors/s#a61\">Shelley, Mary Wollstonecraft (1237)</a></li>\n",
       "<li><a href=\"/browse/authors/c#a7\">Carroll, Lewis (1070)</a></li>\n",
       "<li><a href=\"/browse/authors/s#a35\">Stevenson, Robert Louis (979)</a></li>\n",
       "<li><a href=\"/browse/authors/s#a65\">Shakespeare, William (877)</a></li>\n",
       "<li><a href=\"/browse/authors/t#a136\">Tolstoy, Leo, graf (838)</a></li>\n",
       "<li><a href=\"/browse/authors/w#a30\">Wells, H. G. (Herbert George) (820)</a></li>\n",
       "<li><a href=\"/browse/authors/n#a779\">Nietzsche, Friedrich Wilhelm (811)</a></li>\n",
       "<li><a href=\"/browse/authors/d#a314\">Dostoyevsky, Fyodor (727)</a></li>\n",
       "<li><a href=\"/browse/authors/m#a9\">Melville, Herman (699)</a></li>\n",
       "<li><a href=\"/browse/authors/h#a705\">Homer (670)</a></li>\n",
       "<li><a href=\"/browse/authors/r#a2183\">Rizal, José (634)</a></li>\n",
       "<li><a href=\"/browse/authors/s#a190\">Stoker, Bram (632)</a></li>\n",
       "<li><a href=\"/browse/authors/v#a60\">Verne, Jules (614)</a></li>\n",
       "<li><a href=\"/browse/authors/g#a2858\">Garnett, Constance (614)</a></li>\n",
       "<li><a href=\"/browse/authors/j#a1039\">Joyce, James (585)</a></li>\n",
       "<li><a href=\"/browse/authors/p#a93\">Plato (582)</a></li>\n",
       "<li><a href=\"/browse/authors/d#a507\">Dante Alighieri (580)</a></li>\n",
       "<li><a href=\"/browse/authors/p#a481\">Poe, Edgar Allan (576)</a></li>\n",
       "<li><a href=\"/browse/authors/f#a420\">Fitzgerald, F. Scott (Francis Scott) (564)</a></li>\n",
       "<li><a href=\"/browse/authors/b#a42\">Baum, L. Frank (Lyman Frank) (558)</a></li>\n",
       "<li><a href=\"/browse/authors/k#a132\">Kipling, Rudyard (558)</a></li>\n",
       "<li><a href=\"/browse/authors/m#a36\">Montgomery, L. M. (Lucy Maud) (557)</a></li>\n",
       "<li><a href=\"/browse/authors/j#a94\">Jowett, Benjamin (555)</a></li>\n",
       "<li><a href=\"/browse/authors/c#a125\">Conrad, Joseph (553)</a></li>\n",
       "<li><a href=\"/browse/authors/d#a1896\">Doré, Gustave (552)</a></li>\n",
       "<li><a href=\"/browse/authors/s#a326\">Swift, Jonathan (521)</a></li>\n",
       "<li><a href=\"/browse/authors/d#a492\">Dumas, Alexandre (520)</a></li>\n",
       "<li><a href=\"/browse/authors/g#a971\">Grimm, Jacob (516)</a></li>\n",
       "<li><a href=\"/browse/authors/g#a972\">Grimm, Wilhelm (516)</a></li>\n",
       "<li><a href=\"/browse/authors/l#a120\">London, Jack (511)</a></li>\n",
       "<li><a href=\"/browse/authors/t#a54\">Thoreau, Henry David (508)</a></li>\n",
       "<li><a href=\"/browse/authors/c#a451\">Christie, Agatha (497)</a></li>\n",
       "<li><a href=\"/browse/authors/r#a355\">Russell, Bertrand (492)</a></li>\n",
       "<li><a href=\"/browse/authors/d#a204\">Defoe, Daniel (492)</a></li>\n",
       "<li><a href=\"/browse/authors/m#a6950\">Mirbeau, Octave (481)</a></li>\n",
       "<li><a href=\"/browse/authors/c#a80\">Chesterton, G. K. (Gilbert Keith) (476)</a></li>\n",
       "<li><a href=\"/browse/authors/h#a28\">Hawthorne, Nathaniel (465)</a></li>\n",
       "<li><a href=\"/browse/authors/j#a113\">James, Henry (455)</a></li>\n",
       "<li><a href=\"/browse/authors/b#a10\">Barrie, J. M. (James Matthew) (455)</a></li>\n",
       "<li><a href=\"/browse/authors/k#a1735\">Kafka, Franz (455)</a></li>\n",
       "<li><a href=\"/browse/authors/h#a85\">Hugo, Victor (451)</a></li>\n",
       "<li><a href=\"/browse/authors/w#a1961\">Widger, David (424)</a></li>\n",
       "<li><a href=\"/browse/authors/c#a53296\">Christison, Robert, Sir (422)</a></li>\n",
       "<li><a href=\"/browse/authors/l#a9473\">Leech, John (413)</a></li>\n",
       "<li><a href=\"/browse/authors/i#a861\">Ibsen, Henrik (411)</a></li>\n",
       "<li><a href=\"/browse/authors/m#a500\">Maude, Louise (409)</a></li>\n",
       "<li><a href=\"/browse/authors/l#a79\">Lang, Andrew (407)</a></li>\n",
       "<li><a href=\"/browse/authors/m#a4589\">Maude, Aylmer (402)</a></li>\n",
       "<li><a href=\"/browse/authors/p#a907\">Pope, Alexander (399)</a></li>\n",
       "<li><a href=\"/browse/authors/a#a102\">Alcott, Louisa May (399)</a></li>\n",
       "<li><a href=\"/browse/authors/b#a408\">Brontë, Charlotte (393)</a></li>\n",
       "<li><a href=\"/browse/authors/b#a251\">Balzac, Honoré de (388)</a></li>\n",
       "<li><a href=\"/browse/authors/c#a708\">Chekhov, Anton Pavlovich (381)</a></li>\n",
       "<li><a href=\"/browse/authors/c#a505\">Cervantes Saavedra, Miguel de (379)</a></li>\n",
       "<li><a href=\"/browse/authors/w#a1736\">Wyllie, David (Translator) (373)</a></li>\n",
       "<li><a href=\"/browse/authors/w#a783\">Wodehouse, P. G. (Pelham Grenville) (363)</a></li>\n",
       "<li><a href=\"/browse/authors/d#a4931\">Derbyshire, Charles E. (360)</a></li>\n",
       "<li><a href=\"/browse/authors/t#a9854\">Townsend, F. H. (Frederick Henry) (357)</a></li>\n",
       "<li><a href=\"/browse/authors/m#a1355\">Morley, Henry (350)</a></li>\n",
       "<li><a href=\"/browse/authors/m#a127\">MacDonald, George (344)</a></li>\n",
       "<li><a href=\"/browse/authors/m#a306\">Maupassant, Guy de (342)</a></li>\n",
       "<li><a href=\"/browse/authors/s#a467\">Shaw, Bernard (342)</a></li>\n",
       "<li><a href=\"/browse/authors/b#a898\">Burton, Richard Francis, Sir (329)</a></li>\n",
       "<li><a href=\"/browse/authors/k#a37155\">Kemble, E. W. (Edward Windsor) (323)</a></li>\n",
       "<li><a href=\"/browse/authors/m#a563\">Machiavelli, Niccolò (323)</a></li>\n",
       "<li><a href=\"/browse/authors/l#a1358\">Leblanc, Maurice (322)</a></li>\n",
       "<li><a href=\"/browse/authors/h#a23\">Hardy, Thomas (321)</a></li>\n",
       "<li><a href=\"/browse/authors/b#a73\">Burnett, Frances Hodgson (321)</a></li>\n",
       "<li><a href=\"/browse/authors/h#a53293\">Holmes, William Gordon (320)</a></li>\n",
       "<li><a href=\"/browse/authors/g#a27\">Gilman, Charlotte Perkins (317)</a></li>\n",
       "<li><a href=\"/browse/authors/s#a59\">Scott, Walter (316)</a></li>\n",
       "<li><a href=\"/browse/authors/c#a98\">Collins, Wilkie (313)</a></li>\n",
       "<li><a href=\"/browse/authors/a#a2298\">Andersen, H. C. (Hans Christian) (309)</a></li>\n",
       "<li><a href=\"/browse/authors/c#a3622\">Cary, Henry Francis (306)</a></li>\n",
       "<li><a href=\"/browse/authors/p#a292\">Potter, Beatrix (304)</a></li>\n",
       "<li><a href=\"/browse/authors/b#a748\">Butler, Samuel (301)</a></li>\n",
       "<li><a href=\"/browse/authors/g#a586\">Goethe, Johann Wolfgang von (301)</a></li>\n",
       "<li><a href=\"/browse/authors/r#a2297\">Robertson, James Alexander (301)</a></li>\n",
       "<li><a href=\"/browse/authors/b#a48\">Burroughs, Edgar Rice (300)</a></li>\n",
       "<li><a href=\"/browse/authors/c#a2229\">Craig, Austin (295)</a></li>\n",
       "<li><a href=\"/browse/authors/h#a33608\">Hapgood, Isabel Florence (293)</a></li>\n",
       "<li><a href=\"/browse/authors/e#a90\">Eliot, George (291)</a></li>\n",
       "<li><a href=\"/browse/authors/b#a206\">Bierce, Ambrose (284)</a></li>\n",
       "<li><a href=\"/browse/authors/m#a564\">Marriott, W. K. (William Kenaz) (280)</a></li>\n",
       "<li><a href=\"/browse/authors/o#a36795\">Ogden, C. K. (Charles Kay) (278)</a></li>\n",
       "<li><a href=\"/browse/authors/b#a1708\">Byron, George Gordon Byron, Baron (277)</a></li>\n",
       "<li><a href=\"/browse/authors/b#a2296\">Blair, Emma Helen (276)</a></li>\n",
       "<li><a href=\"/browse/authors/w#a1861\">Wittgenstein, Ludwig (276)</a></li>\n",
       "<li><a href=\"/browse/authors/v#a913\">Voltaire (274)</a></li>\n",
       "<li><a href=\"/browse/authors/d#a485\">Darwin, Charles (271)</a></li>\n",
       "<li><a href=\"/browse/authors/l#a7862\">Levy, Oscar (271)</a></li>\n",
       "<li><a href=\"/browse/authors/s#a3648\">Schopenhauer, Arthur (270)</a></li>\n",
       "<li><a href=\"/browse/authors/w#a104\">Wharton, Edith (267)</a></li>\n",
       "<li><a href=\"/browse/authors/b#a5446\">Bourne, Edward Gaylord (264)</a></li>\n",
       "<li><a href=\"/browse/authors/z#a528\">Zola, Émile (263)</a></li>\n",
       "</ol>\n",
       "<div class=\"padded\">\n",
       "<ul>\n",
       "<li><a href=\"#books-last1\">Top 100 EBooks yesterday</a></li>\n",
       "<li><a href=\"#authors-last1\">Top 100 Authors yesterday</a></li>\n",
       "<li><a href=\"#books-last7\">Top 100 EBooks last 7 days</a></li>\n",
       "<li><a href=\"#authors-last7\">Top 100 Authors last 7 days</a></li>\n",
       "<li><a href=\"#books-last30\">Top 100 EBooks last 30 days</a></li>\n",
       "<li><a href=\"#authors-last30\">Top 100 Authors last 30 days</a></li>\n",
       "</ul>\n",
       "</div>\n",
       "<h2 id=\"books-last7\">Top 100 EBooks last 7 days</h2>\n",
       "<ol>\n",
       "<li><a href=\"/ebooks/84\">Frankenstein; Or, The Modern Prometheus by Mary Wollstonecraft Shelley (16471)</a></li>\n",
       "<li><a href=\"/ebooks/1342\">Pride and Prejudice by Jane Austen (12682)</a></li>\n",
       "<li><a href=\"/ebooks/64317\">The Great Gatsby by F. Scott  Fitzgerald (7267)</a></li>\n",
       "<li><a href=\"/ebooks/11\">Alice's Adventures in Wonderland by Lewis Carroll (5994)</a></li>\n",
       "<li><a href=\"/ebooks/98\">A Tale of Two Cities by Charles Dickens (5959)</a></li>\n",
       "<li><a href=\"/ebooks/844\">The Importance of Being Earnest: A Trivial Comedy for Serious People by Oscar Wilde (5953)</a></li>\n",
       "<li><a href=\"/ebooks/174\">The Picture of Dorian Gray by Oscar Wilde (4764)</a></li>\n",
       "<li><a href=\"/ebooks/2701\">Moby Dick; Or, The Whale by Herman Melville (4517)</a></li>\n",
       "<li><a href=\"/ebooks/1661\">The Adventures of Sherlock Holmes by Arthur Conan Doyle (4262)</a></li>\n",
       "<li><a href=\"/ebooks/2542\">Et dukkehjem. English by Henrik Ibsen (4200)</a></li>\n",
       "<li><a href=\"/ebooks/1260\">Jane Eyre: An Autobiography by Charlotte Brontë (3783)</a></li>\n",
       "<li><a href=\"/ebooks/5200\">Metamorphosis by Franz Kafka (3774)</a></li>\n",
       "<li><a href=\"/ebooks/46\">A Christmas Carol in Prose; Being a Ghost Story of Christmas by Charles Dickens (3727)</a></li>\n",
       "<li><a href=\"/ebooks/1250\">Anthem by Ayn Rand (3668)</a></li>\n",
       "<li><a href=\"/ebooks/43\">The Strange Case of Dr. Jekyll and Mr. Hyde by Robert Louis Stevenson (3516)</a></li>\n",
       "<li><a href=\"/ebooks/1952\">The Yellow Wallpaper by Charlotte Perkins Gilman (3467)</a></li>\n",
       "<li><a href=\"/ebooks/1080\">A Modest Proposal by Jonathan Swift (3461)</a></li>\n",
       "<li><a href=\"/ebooks/76\">Adventures of Huckleberry Finn by Mark Twain (3263)</a></li>\n",
       "<li><a href=\"/ebooks/74\">The Adventures of Tom Sawyer, Complete by Mark Twain (3252)</a></li>\n",
       "<li><a href=\"/ebooks/345\">Dracula by Bram Stoker (3250)</a></li>\n",
       "<li><a href=\"/ebooks/43453\">A Pickle for the Knowing Ones by Timothy Dexter (3213)</a></li>\n",
       "<li><a href=\"/ebooks/2852\">The Hound of the Baskervilles by Arthur Conan Doyle (3177)</a></li>\n",
       "<li><a href=\"/ebooks/1400\">Great Expectations by Charles Dickens (3177)</a></li>\n",
       "<li><a href=\"/ebooks/25344\">The Scarlet Letter by Nathaniel Hawthorne (3177)</a></li>\n",
       "<li><a href=\"/ebooks/57775\">Le jardin des supplices by Octave Mirbeau (3112)</a></li>\n",
       "<li><a href=\"/ebooks/219\">Heart of Darkness by Joseph Conrad (3088)</a></li>\n",
       "<li><a href=\"/ebooks/2591\">Grimms' Fairy Tales by Jacob Grimm and Wilhelm Grimm (3010)</a></li>\n",
       "<li><a href=\"/ebooks/16\">Peter Pan by J. M.  Barrie (2773)</a></li>\n",
       "<li><a href=\"/ebooks/55\">The Wonderful Wizard of Oz by L. Frank  Baum (2769)</a></li>\n",
       "<li><a href=\"/ebooks/205\">Walden, and On The Duty Of Civil Disobedience by Henry David Thoreau (2686)</a></li>\n",
       "<li><a href=\"/ebooks/1232\">Il Principe. English by Niccolò Machiavelli (2514)</a></li>\n",
       "<li><a href=\"/ebooks/2600\">War and Peace by graf Leo Tolstoy (2513)</a></li>\n",
       "<li><a href=\"/ebooks/4300\">Ulysses by James Joyce (2344)</a></li>\n",
       "<li><a href=\"/ebooks/768\">Wuthering Heights by Emily Brontë (2324)</a></li>\n",
       "<li><a href=\"/ebooks/158\">Emma by Jane Austen (2278)</a></li>\n",
       "<li><a href=\"/ebooks/120\">Treasure Island by Robert Louis Stevenson (2200)</a></li>\n",
       "<li><a href=\"/ebooks/1727\">The Odyssey by Homer (2109)</a></li>\n",
       "<li><a href=\"/ebooks/215\">The Call of the Wild by Jack London (2087)</a></li>\n",
       "<li><a href=\"/ebooks/45\">Anne of Green Gables by L. M.  Montgomery (2076)</a></li>\n",
       "<li><a href=\"/ebooks/5740\">Tractatus Logico-Philosophicus by Ludwig Wittgenstein (2056)</a></li>\n",
       "<li><a href=\"/ebooks/6130\">The Iliad by Homer (1996)</a></li>\n",
       "<li><a href=\"/ebooks/35899\">The Philippines a Century Hence by José Rizal (1988)</a></li>\n",
       "<li><a href=\"/ebooks/3825\">Pygmalion by Bernard Shaw (1964)</a></li>\n",
       "<li><a href=\"/ebooks/160\">The Awakening, and Selected Short Stories by Kate Chopin (1905)</a></li>\n",
       "<li><a href=\"/ebooks/514\">Little Women by Louisa May Alcott (1832)</a></li>\n",
       "<li><a href=\"/ebooks/996\">Don Quixote by Miguel de Cervantes Saavedra (1822)</a></li>\n",
       "<li><a href=\"/ebooks/2814\">Dubliners by James Joyce (1818)</a></li>\n",
       "<li><a href=\"/ebooks/58585\">The Prophet by Kahlil Gibran (1760)</a></li>\n",
       "<li><a href=\"/ebooks/244\">A Study in Scarlet by Arthur Conan Doyle (1756)</a></li>\n",
       "<li><a href=\"/ebooks/203\">Uncle Tom's Cabin by Harriet Beecher Stowe (1749)</a></li>\n",
       "<li><a href=\"/ebooks/2500\">Siddhartha by Hermann Hesse (1741)</a></li>\n",
       "<li><a href=\"/ebooks/1184\">The Count of Monte Cristo, Illustrated by Alexandre Dumas (1734)</a></li>\n",
       "<li><a href=\"/ebooks/23\">Narrative of the Life of Frederick Douglass, an American Slave by Frederick Douglass (1704)</a></li>\n",
       "<li><a href=\"/ebooks/1497\">The Republic by Plato (1704)</a></li>\n",
       "<li><a href=\"/ebooks/2554\">Prestuplenie i nakazanie. English by Fyodor Dostoyevsky (1673)</a></li>\n",
       "<li><a href=\"/ebooks/408\">The Souls of Black Folk by W. E. B.  Du Bois (1663)</a></li>\n",
       "<li><a href=\"/ebooks/902\">The Happy Prince, and Other Tales by Oscar Wilde (1646)</a></li>\n",
       "<li><a href=\"/ebooks/16328\">Beowulf: An Anglo-Saxon Epic Poem (1608)</a></li>\n",
       "<li><a href=\"/ebooks/829\">Gulliver's Travels into Several Remote Nations of the World by Jonathan Swift (1573)</a></li>\n",
       "<li><a href=\"/ebooks/36\">The War of the Worlds by H. G.  Wells (1557)</a></li>\n",
       "<li><a href=\"/ebooks/236\">The Jungle Book by Rudyard Kipling (1500)</a></li>\n",
       "<li><a href=\"/ebooks/135\">Les Misérables by Victor Hugo (1489)</a></li>\n",
       "<li><a href=\"/ebooks/100\">The Complete Works of William Shakespeare by William Shakespeare (1466)</a></li>\n",
       "<li><a href=\"/ebooks/26184\">Simple Sabotage Field Manual by United States. Office of Strategic Services (1455)</a></li>\n",
       "<li><a href=\"/ebooks/27827\">The Kama Sutra of Vatsyayana by Vatsyayana (1453)</a></li>\n",
       "<li><a href=\"/ebooks/5739\">Korean—English Dictionary by Leon Kuperman (1414)</a></li>\n",
       "<li><a href=\"/ebooks/113\">The Secret Garden by Frances Hodgson Burnett (1397)</a></li>\n",
       "<li><a href=\"/ebooks/730\">Oliver Twist by Charles Dickens (1391)</a></li>\n",
       "<li><a href=\"/ebooks/766\">David Copperfield by Charles Dickens (1363)</a></li>\n",
       "<li><a href=\"/ebooks/1837\">The Prince and the Pauper by Mark Twain (1358)</a></li>\n",
       "<li><a href=\"/ebooks/1399\">Anna Karenina by graf Leo Tolstoy (1348)</a></li>\n",
       "<li><a href=\"/ebooks/3600\">Essays of Michel de Montaigne — Complete by Michel de Montaigne (1314)</a></li>\n",
       "<li><a href=\"/ebooks/30254\">The Romance of Lust: A classic Victorian erotic novel by Anonymous (1314)</a></li>\n",
       "<li><a href=\"/ebooks/35\">The Time Machine by H. G.  Wells (1282)</a></li>\n",
       "<li><a href=\"/ebooks/1998\">Also sprach Zarathustra. English by Friedrich Wilhelm Nietzsche (1265)</a></li>\n",
       "<li><a href=\"/ebooks/105\">Persuasion by Jane Austen (1260)</a></li>\n",
       "<li><a href=\"/ebooks/3207\">Leviathan by Thomas Hobbes (1258)</a></li>\n",
       "<li><a href=\"/ebooks/4363\">Beyond Good and Evil by Friedrich Wilhelm Nietzsche (1257)</a></li>\n",
       "<li><a href=\"/ebooks/14568\">Gawain and the Grene Knight (1244)</a></li>\n",
       "<li><a href=\"/ebooks/19942\">Candide by Voltaire (1235)</a></li>\n",
       "<li><a href=\"/ebooks/863\">The Mysterious Affair at Styles by Agatha Christie (1201)</a></li>\n",
       "<li><a href=\"/ebooks/972\">The Devil's Dictionary by Ambrose Bierce (1194)</a></li>\n",
       "<li><a href=\"/ebooks/20228\">Noli Me Tangere by José Rizal (1188)</a></li>\n",
       "<li><a href=\"/ebooks/65331\">The Cosmic Looters by Edmond Hamilton (1100)</a></li>\n",
       "<li><a href=\"/ebooks/65322\">How to Get Rich by Anonymous (1099)</a></li>\n",
       "<li><a href=\"/ebooks/8800\">An Index of The Divine Comedy by Dante by Dante Alighieri (1097)</a></li>\n",
       "<li><a href=\"/ebooks/15399\">The Interesting Narrative of the Life of Olaudah Equiano, Or Gustavus Vassa, The African by Equiano (1093)</a></li>\n",
       "<li><a href=\"/ebooks/161\">Sense and Sensibility by Jane Austen (1090)</a></li>\n",
       "<li><a href=\"/ebooks/10007\">Carmilla by Joseph Sheridan Le Fanu (1089)</a></li>\n",
       "<li><a href=\"/ebooks/65324\">The Old Way by Stephen Marlowe (1089)</a></li>\n",
       "<li><a href=\"/ebooks/209\">The Turn of the Screw by Henry James (1070)</a></li>\n",
       "<li><a href=\"/ebooks/521\">The Life and Adventures of Robinson Crusoe by Daniel Defoe (1058)</a></li>\n",
       "<li><a href=\"/ebooks/65289\">Munchausen XX by W. G. Worfel (1054)</a></li>\n",
       "<li><a href=\"/ebooks/2148\">The Works of Edgar Allan Poe — Volume 2 by Edgar Allan Poe (1045)</a></li>\n",
       "<li><a href=\"/ebooks/65295\">Scatalogic Rites of All Nations by John Gregory Bourke (1041)</a></li>\n",
       "<li><a href=\"/ebooks/1001\">Divine Comedy, Longfellow's Translation, Hell by Dante Alighieri (1033)</a></li>\n",
       "<li><a href=\"/ebooks/1513\">Romeo and Juliet by William Shakespeare (1027)</a></li>\n",
       "<li><a href=\"/ebooks/35249\">A Japanese Boy by Shigemi Shiukichi (1022)</a></li>\n",
       "<li><a href=\"/ebooks/6133\">Arsène Lupin, gentleman-cambrioleur. English by Maurice Leblanc (1019)</a></li>\n",
       "<li><a href=\"/ebooks/41\">The Legend of Sleepy Hollow by Washington Irving (1006)</a></li>\n",
       "</ol>\n",
       "<div class=\"padded\">\n",
       "<ul>\n",
       "<li><a href=\"#books-last1\">Top 100 EBooks yesterday</a></li>\n",
       "<li><a href=\"#authors-last1\">Top 100 Authors yesterday</a></li>\n",
       "<li><a href=\"#books-last7\">Top 100 EBooks last 7 days</a></li>\n",
       "<li><a href=\"#authors-last7\">Top 100 Authors last 7 days</a></li>\n",
       "<li><a href=\"#books-last30\">Top 100 EBooks last 30 days</a></li>\n",
       "<li><a href=\"#authors-last30\">Top 100 Authors last 30 days</a></li>\n",
       "</ul>\n",
       "</div>\n",
       "<h2 id=\"authors-last7\">Top 100 Authors last 7 days</h2>\n",
       "<ol>\n",
       "<li><a href=\"/browse/authors/d#a37\">Dickens, Charles (23160)</a></li>\n",
       "<li><a href=\"/browse/authors/a#a68\">Austen, Jane (20539)</a></li>\n",
       "<li><a href=\"/browse/authors/s#a61\">Shelley, Mary Wollstonecraft (18733)</a></li>\n",
       "<li><a href=\"/browse/authors/w#a111\">Wilde, Oscar (15507)</a></li>\n",
       "<li><a href=\"/browse/authors/t#a53\">Twain, Mark (15388)</a></li>\n",
       "<li><a href=\"/browse/authors/d#a69\">Doyle, Arthur Conan (14599)</a></li>\n",
       "<li><a href=\"/browse/authors/s#a65\">Shakespeare, William (10383)</a></li>\n",
       "<li><a href=\"/browse/authors/c#a7\">Carroll, Lewis (9252)</a></li>\n",
       "<li><a href=\"/browse/authors/s#a35\">Stevenson, Robert Louis (8932)</a></li>\n",
       "<li><a href=\"/browse/authors/f#a420\">Fitzgerald, F. Scott (Francis Scott) (8053)</a></li>\n",
       "<li><a href=\"/browse/authors/t#a136\">Tolstoy, Leo, graf (6921)</a></li>\n",
       "<li><a href=\"/browse/authors/w#a30\">Wells, H. G. (Herbert George) (6769)</a></li>\n",
       "<li><a href=\"/browse/authors/h#a705\">Homer (6305)</a></li>\n",
       "<li><a href=\"/browse/authors/r#a2183\">Rizal, José (6078)</a></li>\n",
       "<li><a href=\"/browse/authors/b#a42\">Baum, L. Frank (Lyman Frank) (6027)</a></li>\n",
       "<li><a href=\"/browse/authors/d#a314\">Dostoyevsky, Fyodor (5987)</a></li>\n",
       "<li><a href=\"/browse/authors/m#a9\">Melville, Herman (5978)</a></li>\n",
       "<li><a href=\"/browse/authors/n#a779\">Nietzsche, Friedrich Wilhelm (5967)</a></li>\n",
       "<li><a href=\"/browse/authors/i#a861\">Ibsen, Henrik (5923)</a></li>\n",
       "<li><a href=\"/browse/authors/s#a326\">Swift, Jonathan (5824)</a></li>\n",
       "<li><a href=\"/browse/authors/p#a481\">Poe, Edgar Allan (5727)</a></li>\n",
       "<li><a href=\"/browse/authors/l#a120\">London, Jack (5541)</a></li>\n",
       "<li><a href=\"/browse/authors/h#a28\">Hawthorne, Nathaniel (5392)</a></li>\n",
       "<li><a href=\"/browse/authors/c#a125\">Conrad, Joseph (5277)</a></li>\n",
       "<li><a href=\"/browse/authors/j#a1039\">Joyce, James (5151)</a></li>\n",
       "<li><a href=\"/browse/authors/k#a132\">Kipling, Rudyard (5033)</a></li>\n",
       "<li><a href=\"/browse/authors/d#a507\">Dante Alighieri (4984)</a></li>\n",
       "<li><a href=\"/browse/authors/k#a1735\">Kafka, Franz (4970)</a></li>\n",
       "<li><a href=\"/browse/authors/p#a93\">Plato (4966)</a></li>\n",
       "<li><a href=\"/browse/authors/g#a2858\">Garnett, Constance (4931)</a></li>\n",
       "<li><a href=\"/browse/authors/j#a94\">Jowett, Benjamin (4737)</a></li>\n",
       "<li><a href=\"/browse/authors/d#a1896\">Doré, Gustave (4681)</a></li>\n",
       "<li><a href=\"/browse/authors/v#a60\">Verne, Jules (4518)</a></li>\n",
       "<li><a href=\"/browse/authors/m#a36\">Montgomery, L. M. (Lucy Maud) (4483)</a></li>\n",
       "<li><a href=\"/browse/authors/b#a408\">Brontë, Charlotte (4359)</a></li>\n",
       "<li><a href=\"/browse/authors/d#a492\">Dumas, Alexandre (4311)</a></li>\n",
       "<li><a href=\"/browse/authors/w#a1736\">Wyllie, David (Translator) (4251)</a></li>\n",
       "<li><a href=\"/browse/authors/g#a971\">Grimm, Jacob (4140)</a></li>\n",
       "<li><a href=\"/browse/authors/g#a972\">Grimm, Wilhelm (4140)</a></li>\n",
       "<li><a href=\"/browse/authors/l#a9473\">Leech, John (4137)</a></li>\n",
       "<li><a href=\"/browse/authors/s#a190\">Stoker, Bram (4053)</a></li>\n",
       "<li><a href=\"/browse/authors/j#a113\">James, Henry (4017)</a></li>\n",
       "<li><a href=\"/browse/authors/t#a9854\">Townsend, F. H. (Frederick Henry) (3954)</a></li>\n",
       "<li><a href=\"/browse/authors/b#a10\">Barrie, J. M. (James Matthew) (3952)</a></li>\n",
       "<li><a href=\"/browse/authors/g#a27\">Gilman, Charlotte Perkins (3936)</a></li>\n",
       "<li><a href=\"/browse/authors/r#a572\">Rand, Ayn (3833)</a></li>\n",
       "<li><a href=\"/browse/authors/s#a467\">Shaw, Bernard (3775)</a></li>\n",
       "<li><a href=\"/browse/authors/t#a54\">Thoreau, Henry David (3679)</a></li>\n",
       "<li><a href=\"/browse/authors/r#a355\">Russell, Bertrand (3673)</a></li>\n",
       "<li><a href=\"/browse/authors/c#a451\">Christie, Agatha (3635)</a></li>\n",
       "<li><a href=\"/browse/authors/c#a708\">Chekhov, Anton Pavlovich (3598)</a></li>\n",
       "<li><a href=\"/browse/authors/c#a80\">Chesterton, G. K. (Gilbert Keith) (3569)</a></li>\n",
       "<li><a href=\"/browse/authors/d#a204\">Defoe, Daniel (3565)</a></li>\n",
       "<li><a href=\"/browse/authors/m#a500\">Maude, Louise (3549)</a></li>\n",
       "<li><a href=\"/browse/authors/a#a102\">Alcott, Louisa May (3519)</a></li>\n",
       "<li><a href=\"/browse/authors/k#a37155\">Kemble, E. W. (Edward Windsor) (3453)</a></li>\n",
       "<li><a href=\"/browse/authors/h#a85\">Hugo, Victor (3448)</a></li>\n",
       "<li><a href=\"/browse/authors/d#a4931\">Derbyshire, Charles E. (3439)</a></li>\n",
       "<li><a href=\"/browse/authors/l#a79\">Lang, Andrew (3428)</a></li>\n",
       "<li><a href=\"/browse/authors/m#a4589\">Maude, Aylmer (3413)</a></li>\n",
       "<li><a href=\"/browse/authors/p#a907\">Pope, Alexander (3351)</a></li>\n",
       "<li><a href=\"/browse/authors/c#a505\">Cervantes Saavedra, Miguel de (3337)</a></li>\n",
       "<li><a href=\"/browse/authors/b#a73\">Burnett, Frances Hodgson (3274)</a></li>\n",
       "<li><a href=\"/browse/authors/w#a1961\">Widger, David (3260)</a></li>\n",
       "<li><a href=\"/browse/authors/d#a42217\">Dexter, Timothy (3213)</a></li>\n",
       "<li><a href=\"/browse/authors/f#a2703\">Foote, Mary Hallock (3183)</a></li>\n",
       "<li><a href=\"/browse/authors/a#a31267\">Anthony, A. V. S. (Andrew Varick Stout) (3177)</a></li>\n",
       "<li><a href=\"/browse/authors/i#a31265\">Ipsen, Ludvig Sandöe (3177)</a></li>\n",
       "<li><a href=\"/browse/authors/m#a6950\">Mirbeau, Octave (3160)</a></li>\n",
       "<li><a href=\"/browse/authors/b#a748\">Butler, Samuel (3138)</a></li>\n",
       "<li><a href=\"/browse/authors/m#a1355\">Morley, Henry (2937)</a></li>\n",
       "<li><a href=\"/browse/authors/m#a563\">Machiavelli, Niccolò (2905)</a></li>\n",
       "<li><a href=\"/browse/authors/r#a2297\">Robertson, James Alexander (2873)</a></li>\n",
       "<li><a href=\"/browse/authors/w#a783\">Wodehouse, P. G. (Pelham Grenville) (2865)</a></li>\n",
       "<li><a href=\"/browse/authors/h#a23\">Hardy, Thomas (2764)</a></li>\n",
       "<li><a href=\"/browse/authors/b#a251\">Balzac, Honoré de (2707)</a></li>\n",
       "<li><a href=\"/browse/authors/b#a2296\">Blair, Emma Helen (2632)</a></li>\n",
       "<li><a href=\"/browse/authors/p#a292\">Potter, Beatrix (2631)</a></li>\n",
       "<li><a href=\"/browse/authors/w#a104\">Wharton, Edith (2609)</a></li>\n",
       "<li><a href=\"/browse/authors/c#a2229\">Craig, Austin (2593)</a></li>\n",
       "<li><a href=\"/browse/authors/s#a59\">Scott, Walter (2586)</a></li>\n",
       "<li><a href=\"/browse/authors/b#a5446\">Bourne, Edward Gaylord (2584)</a></li>\n",
       "<li><a href=\"/browse/authors/c#a3622\">Cary, Henry Francis (2583)</a></li>\n",
       "<li><a href=\"/browse/authors/b#a717\">Burgess, Thornton W. (Thornton Waldo) (2564)</a></li>\n",
       "<li><a href=\"/browse/authors/m#a564\">Marriott, W. K. (William Kenaz) (2522)</a></li>\n",
       "<li><a href=\"/browse/authors/b#a898\">Burton, Richard Francis, Sir (2472)</a></li>\n",
       "<li><a href=\"/browse/authors/m#a306\">Maupassant, Guy de (2422)</a></li>\n",
       "<li><a href=\"/browse/authors/b#a206\">Bierce, Ambrose (2402)</a></li>\n",
       "<li><a href=\"/browse/authors/o#a506\">Ormsby, John (2387)</a></li>\n",
       "<li><a href=\"/browse/authors/b#a405\">Brontë, Emily (2386)</a></li>\n",
       "<li><a href=\"/browse/authors/g#a586\">Goethe, Johann Wolfgang von (2383)</a></li>\n",
       "<li><a href=\"/browse/authors/e#a90\">Eliot, George (2367)</a></li>\n",
       "<li><a href=\"/browse/authors/d#a226\">Du Bois, W. E. B. (William Edward Burghardt) (2324)</a></li>\n",
       "<li><a href=\"/browse/authors/h#a941\">Hesse, Hermann (2323)</a></li>\n",
       "<li><a href=\"/browse/authors/h#a33608\">Hapgood, Isabel Florence (2319)</a></li>\n",
       "<li><a href=\"/browse/authors/l#a1358\">Leblanc, Maurice (2298)</a></li>\n",
       "<li><a href=\"/browse/authors/v#a913\">Voltaire (2284)</a></li>\n",
       "<li><a href=\"/browse/authors/r#a44215\">Rhead, Louis (2206)</a></li>\n",
       "<li><a href=\"/browse/authors/b#a25301\">Buckley, Theodore Alois (2201)</a></li>\n",
       "<li><a href=\"/browse/authors/s#a115\">Stowe, Harriet Beecher (2161)</a></li>\n",
       "</ol>\n",
       "<div class=\"padded\">\n",
       "<ul>\n",
       "<li><a href=\"#books-last1\">Top 100 EBooks yesterday</a></li>\n",
       "<li><a href=\"#authors-last1\">Top 100 Authors yesterday</a></li>\n",
       "<li><a href=\"#books-last7\">Top 100 EBooks last 7 days</a></li>\n",
       "<li><a href=\"#authors-last7\">Top 100 Authors last 7 days</a></li>\n",
       "<li><a href=\"#books-last30\">Top 100 EBooks last 30 days</a></li>\n",
       "<li><a href=\"#authors-last30\">Top 100 Authors last 30 days</a></li>\n",
       "</ul>\n",
       "</div>\n",
       "<h2 id=\"books-last30\">Top 100 EBooks last 30 days</h2>\n",
       "<ol>\n",
       "<li><a href=\"/ebooks/84\">Frankenstein; Or, The Modern Prometheus by Mary Wollstonecraft Shelley (79888)</a></li>\n",
       "<li><a href=\"/ebooks/1342\">Pride and Prejudice by Jane Austen (53963)</a></li>\n",
       "<li><a href=\"/ebooks/64317\">The Great Gatsby by F. Scott  Fitzgerald (34708)</a></li>\n",
       "<li><a href=\"/ebooks/98\">A Tale of Two Cities by Charles Dickens (28166)</a></li>\n",
       "<li><a href=\"/ebooks/11\">Alice's Adventures in Wonderland by Lewis Carroll (26844)</a></li>\n",
       "<li><a href=\"/ebooks/844\">The Importance of Being Earnest: A Trivial Comedy for Serious People by Oscar Wilde (26217)</a></li>\n",
       "<li><a href=\"/ebooks/2542\">Et dukkehjem. English by Henrik Ibsen (24188)</a></li>\n",
       "<li><a href=\"/ebooks/174\">The Picture of Dorian Gray by Oscar Wilde (21666)</a></li>\n",
       "<li><a href=\"/ebooks/2701\">Moby Dick; Or, The Whale by Herman Melville (20081)</a></li>\n",
       "<li><a href=\"/ebooks/1661\">The Adventures of Sherlock Holmes by Arthur Conan Doyle (19417)</a></li>\n",
       "<li><a href=\"/ebooks/5200\">Metamorphosis by Franz Kafka (19144)</a></li>\n",
       "<li><a href=\"/ebooks/1260\">Jane Eyre: An Autobiography by Charlotte Brontë (18032)</a></li>\n",
       "<li><a href=\"/ebooks/26184\">Simple Sabotage Field Manual by United States. Office of Strategic Services (17777)</a></li>\n",
       "<li><a href=\"/ebooks/1952\">The Yellow Wallpaper by Charlotte Perkins Gilman (17431)</a></li>\n",
       "<li><a href=\"/ebooks/1080\">A Modest Proposal by Jonathan Swift (17405)</a></li>\n",
       "<li><a href=\"/ebooks/43\">The Strange Case of Dr. Jekyll and Mr. Hyde by Robert Louis Stevenson (16998)</a></li>\n",
       "<li><a href=\"/ebooks/1250\">Anthem by Ayn Rand (16428)</a></li>\n",
       "<li><a href=\"/ebooks/76\">Adventures of Huckleberry Finn by Mark Twain (15968)</a></li>\n",
       "<li><a href=\"/ebooks/46\">A Christmas Carol in Prose; Being a Ghost Story of Christmas by Charles Dickens (15535)</a></li>\n",
       "<li><a href=\"/ebooks/2852\">The Hound of the Baskervilles by Arthur Conan Doyle (15521)</a></li>\n",
       "<li><a href=\"/ebooks/345\">Dracula by Bram Stoker (15278)</a></li>\n",
       "<li><a href=\"/ebooks/219\">Heart of Darkness by Joseph Conrad (15203)</a></li>\n",
       "<li><a href=\"/ebooks/25344\">The Scarlet Letter by Nathaniel Hawthorne (15018)</a></li>\n",
       "<li><a href=\"/ebooks/1400\">Great Expectations by Charles Dickens (13800)</a></li>\n",
       "<li><a href=\"/ebooks/74\">The Adventures of Tom Sawyer, Complete by Mark Twain (13762)</a></li>\n",
       "<li><a href=\"/ebooks/57775\">Le jardin des supplices by Octave Mirbeau (12590)</a></li>\n",
       "<li><a href=\"/ebooks/2591\">Grimms' Fairy Tales by Jacob Grimm and Wilhelm Grimm (12340)</a></li>\n",
       "<li><a href=\"/ebooks/205\">Walden, and On The Duty Of Civil Disobedience by Henry David Thoreau (12152)</a></li>\n",
       "<li><a href=\"/ebooks/16\">Peter Pan by J. M.  Barrie (11816)</a></li>\n",
       "<li><a href=\"/ebooks/55\">The Wonderful Wizard of Oz by L. Frank  Baum (11799)</a></li>\n",
       "<li><a href=\"/ebooks/1232\">Il Principe. English by Niccolò Machiavelli (11550)</a></li>\n",
       "<li><a href=\"/ebooks/160\">The Awakening, and Selected Short Stories by Kate Chopin (10923)</a></li>\n",
       "<li><a href=\"/ebooks/158\">Emma by Jane Austen (10774)</a></li>\n",
       "<li><a href=\"/ebooks/2600\">War and Peace by graf Leo Tolstoy (10550)</a></li>\n",
       "<li><a href=\"/ebooks/120\">Treasure Island by Robert Louis Stevenson (10169)</a></li>\n",
       "<li><a href=\"/ebooks/4300\">Ulysses by James Joyce (9787)</a></li>\n",
       "<li><a href=\"/ebooks/408\">The Souls of Black Folk by W. E. B.  Du Bois (9609)</a></li>\n",
       "<li><a href=\"/ebooks/5740\">Tractatus Logico-Philosophicus by Ludwig Wittgenstein (9548)</a></li>\n",
       "<li><a href=\"/ebooks/2814\">Dubliners by James Joyce (9369)</a></li>\n",
       "<li><a href=\"/ebooks/3825\">Pygmalion by Bernard Shaw (9294)</a></li>\n",
       "<li><a href=\"/ebooks/768\">Wuthering Heights by Emily Brontë (9250)</a></li>\n",
       "<li><a href=\"/ebooks/45\">Anne of Green Gables by L. M.  Montgomery (9191)</a></li>\n",
       "<li><a href=\"/ebooks/23\">Narrative of the Life of Frederick Douglass, an American Slave by Frederick Douglass (9155)</a></li>\n",
       "<li><a href=\"/ebooks/514\">Little Women by Louisa May Alcott (9070)</a></li>\n",
       "<li><a href=\"/ebooks/215\">The Call of the Wild by Jack London (9017)</a></li>\n",
       "<li><a href=\"/ebooks/2500\">Siddhartha by Hermann Hesse (8955)</a></li>\n",
       "<li><a href=\"/ebooks/1727\">The Odyssey by Homer (8921)</a></li>\n",
       "<li><a href=\"/ebooks/902\">The Happy Prince, and Other Tales by Oscar Wilde (8618)</a></li>\n",
       "<li><a href=\"/ebooks/6130\">The Iliad by Homer (8609)</a></li>\n",
       "<li><a href=\"/ebooks/244\">A Study in Scarlet by Arthur Conan Doyle (8381)</a></li>\n",
       "<li><a href=\"/ebooks/203\">Uncle Tom's Cabin by Harriet Beecher Stowe (8233)</a></li>\n",
       "<li><a href=\"/ebooks/58585\">The Prophet by Kahlil Gibran (8179)</a></li>\n",
       "<li><a href=\"/ebooks/1184\">The Count of Monte Cristo, Illustrated by Alexandre Dumas (7843)</a></li>\n",
       "<li><a href=\"/ebooks/996\">Don Quixote by Miguel de Cervantes Saavedra (7779)</a></li>\n",
       "<li><a href=\"/ebooks/1497\">The Republic by Plato (7555)</a></li>\n",
       "<li><a href=\"/ebooks/829\">Gulliver's Travels into Several Remote Nations of the World by Jonathan Swift (7516)</a></li>\n",
       "<li><a href=\"/ebooks/2554\">Prestuplenie i nakazanie. English by Fyodor Dostoyevsky (7483)</a></li>\n",
       "<li><a href=\"/ebooks/16328\">Beowulf: An Anglo-Saxon Epic Poem (7453)</a></li>\n",
       "<li><a href=\"/ebooks/35899\">The Philippines a Century Hence by José Rizal (7352)</a></li>\n",
       "<li><a href=\"/ebooks/43453\">A Pickle for the Knowing Ones by Timothy Dexter (7291)</a></li>\n",
       "<li><a href=\"/ebooks/36\">The War of the Worlds by H. G.  Wells (7270)</a></li>\n",
       "<li><a href=\"/ebooks/236\">The Jungle Book by Rudyard Kipling (6845)</a></li>\n",
       "<li><a href=\"/ebooks/113\">The Secret Garden by Frances Hodgson Burnett (6697)</a></li>\n",
       "<li><a href=\"/ebooks/135\">Les Misérables by Victor Hugo (6638)</a></li>\n",
       "<li><a href=\"/ebooks/5131\">Childe Harold's Pilgrimage by Baron George Gordon Byron Byron (6565)</a></li>\n",
       "<li><a href=\"/ebooks/27827\">The Kama Sutra of Vatsyayana by Vatsyayana (6483)</a></li>\n",
       "<li><a href=\"/ebooks/32572\">Hans Andersen's Fairy Tales. Second Series by H. C.  Andersen (6452)</a></li>\n",
       "<li><a href=\"/ebooks/730\">Oliver Twist by Charles Dickens (6419)</a></li>\n",
       "<li><a href=\"/ebooks/3600\">Essays of Michel de Montaigne — Complete by Michel de Montaigne (6399)</a></li>\n",
       "<li><a href=\"/ebooks/3207\">Leviathan by Thomas Hobbes (6147)</a></li>\n",
       "<li><a href=\"/ebooks/100\">The Complete Works of William Shakespeare by William Shakespeare (5945)</a></li>\n",
       "<li><a href=\"/ebooks/1998\">Also sprach Zarathustra. English by Friedrich Wilhelm Nietzsche (5827)</a></li>\n",
       "<li><a href=\"/ebooks/19942\">Candide by Voltaire (5765)</a></li>\n",
       "<li><a href=\"/ebooks/5739\">Korean—English Dictionary by Leon Kuperman (5738)</a></li>\n",
       "<li><a href=\"/ebooks/10007\">Carmilla by Joseph Sheridan Le Fanu (5736)</a></li>\n",
       "<li><a href=\"/ebooks/35\">The Time Machine by H. G.  Wells (5694)</a></li>\n",
       "<li><a href=\"/ebooks/161\">Sense and Sensibility by Jane Austen (5598)</a></li>\n",
       "<li><a href=\"/ebooks/766\">David Copperfield by Charles Dickens (5520)</a></li>\n",
       "<li><a href=\"/ebooks/105\">Persuasion by Jane Austen (5510)</a></li>\n",
       "<li><a href=\"/ebooks/972\">The Devil's Dictionary by Ambrose Bierce (5501)</a></li>\n",
       "<li><a href=\"/ebooks/1399\">Anna Karenina by graf Leo Tolstoy (5486)</a></li>\n",
       "<li><a href=\"/ebooks/30254\">The Romance of Lust: A classic Victorian erotic novel by Anonymous (5470)</a></li>\n",
       "<li><a href=\"/ebooks/863\">The Mysterious Affair at Styles by Agatha Christie (5449)</a></li>\n",
       "<li><a href=\"/ebooks/20228\">Noli Me Tangere by José Rizal (5442)</a></li>\n",
       "<li><a href=\"/ebooks/4363\">Beyond Good and Evil by Friedrich Wilhelm Nietzsche (5288)</a></li>\n",
       "<li><a href=\"/ebooks/1934\">Songs of Innocence, and Songs of Experience by William Blake (5271)</a></li>\n",
       "<li><a href=\"/ebooks/1001\">Divine Comedy, Longfellow's Translation, Hell by Dante Alighieri (5267)</a></li>\n",
       "<li><a href=\"/ebooks/33283\">Calculus Made Easy by Silvanus P.  Thompson (5095)</a></li>\n",
       "<li><a href=\"/ebooks/521\">The Life and Adventures of Robinson Crusoe by Daniel Defoe (5041)</a></li>\n",
       "<li><a href=\"/ebooks/42108\">The Slang Dictionary: Etymological, Historical and Andecdotal by John Camden Hotten (4973)</a></li>\n",
       "<li><a href=\"/ebooks/3090\">Complete Original Short Stories of Guy De Maupassant by Guy de Maupassant (4823)</a></li>\n",
       "<li><a href=\"/ebooks/1837\">The Prince and the Pauper by Mark Twain (4646)</a></li>\n",
       "<li><a href=\"/ebooks/8800\">An Index of The Divine Comedy by Dante by Dante Alighieri (4644)</a></li>\n",
       "<li><a href=\"/ebooks/41\">The Legend of Sleepy Hollow by Washington Irving (4468)</a></li>\n",
       "<li><a href=\"/ebooks/3296\">The Confessions of St. Augustine by Bishop of Hippo Saint Augustine (4438)</a></li>\n",
       "<li><a href=\"/ebooks/10623\">Plays by Susan Glaspell (4422)</a></li>\n",
       "<li><a href=\"/ebooks/73\">The Red Badge of Courage: An Episode of the American Civil War by Stephen Crane (4420)</a></li>\n",
       "<li><a href=\"/ebooks/42324\">Frankenstein; Or, The Modern Prometheus by Mary Wollstonecraft Shelley (4379)</a></li>\n",
       "<li><a href=\"/ebooks/6133\">Arsène Lupin, gentleman-cambrioleur. English by Maurice Leblanc (4337)</a></li>\n",
       "<li><a href=\"/ebooks/7370\">Second Treatise of Government by John Locke (4333)</a></li>\n",
       "</ol>\n",
       "<div class=\"padded\">\n",
       "<ul>\n",
       "<li><a href=\"#books-last1\">Top 100 EBooks yesterday</a></li>\n",
       "<li><a href=\"#authors-last1\">Top 100 Authors yesterday</a></li>\n",
       "<li><a href=\"#books-last7\">Top 100 EBooks last 7 days</a></li>\n",
       "<li><a href=\"#authors-last7\">Top 100 Authors last 7 days</a></li>\n",
       "<li><a href=\"#books-last30\">Top 100 EBooks last 30 days</a></li>\n",
       "<li><a href=\"#authors-last30\">Top 100 Authors last 30 days</a></li>\n",
       "</ul>\n",
       "</div>\n",
       "<h2 id=\"authors-last30\">Top 100 Authors last 30 days</h2>\n",
       "<ol>\n",
       "<li><a href=\"/browse/authors/d#a37\">Dickens, Charles (102821)</a></li>\n",
       "<li><a href=\"/browse/authors/a#a68\">Austen, Jane (90471)</a></li>\n",
       "<li><a href=\"/browse/authors/s#a61\">Shelley, Mary Wollstonecraft (89372)</a></li>\n",
       "<li><a href=\"/browse/authors/w#a111\">Wilde, Oscar (71439)</a></li>\n",
       "<li><a href=\"/browse/authors/t#a53\">Twain, Mark (67100)</a></li>\n",
       "<li><a href=\"/browse/authors/d#a69\">Doyle, Arthur Conan (66358)</a></li>\n",
       "<li><a href=\"/browse/authors/s#a65\">Shakespeare, William (48769)</a></li>\n",
       "<li><a href=\"/browse/authors/c#a7\">Carroll, Lewis (42135)</a></li>\n",
       "<li><a href=\"/browse/authors/s#a35\">Stevenson, Robert Louis (40744)</a></li>\n",
       "<li><a href=\"/browse/authors/f#a420\">Fitzgerald, F. Scott (Francis Scott) (38135)</a></li>\n",
       "<li><a href=\"/browse/authors/i#a861\">Ibsen, Henrik (32601)</a></li>\n",
       "<li><a href=\"/browse/authors/w#a30\">Wells, H. G. (Herbert George) (30519)</a></li>\n",
       "<li><a href=\"/browse/authors/s#a326\">Swift, Jonathan (28515)</a></li>\n",
       "<li><a href=\"/browse/authors/h#a705\">Homer (28257)</a></li>\n",
       "<li><a href=\"/browse/authors/t#a136\">Tolstoy, Leo, graf (27841)</a></li>\n",
       "<li><a href=\"/browse/authors/m#a9\">Melville, Herman (26654)</a></li>\n",
       "<li><a href=\"/browse/authors/n#a779\">Nietzsche, Friedrich Wilhelm (26520)</a></li>\n",
       "<li><a href=\"/browse/authors/d#a314\">Dostoyevsky, Fyodor (26355)</a></li>\n",
       "<li><a href=\"/browse/authors/r#a2183\">Rizal, José (26041)</a></li>\n",
       "<li><a href=\"/browse/authors/c#a125\">Conrad, Joseph (25938)</a></li>\n",
       "<li><a href=\"/browse/authors/h#a28\">Hawthorne, Nathaniel (25881)</a></li>\n",
       "<li><a href=\"/browse/authors/l#a120\">London, Jack (25464)</a></li>\n",
       "<li><a href=\"/browse/authors/k#a1735\">Kafka, Franz (24824)</a></li>\n",
       "<li><a href=\"/browse/authors/b#a42\">Baum, L. Frank (Lyman Frank) (24646)</a></li>\n",
       "<li><a href=\"/browse/authors/p#a481\">Poe, Edgar Allan (24127)</a></li>\n",
       "<li><a href=\"/browse/authors/j#a1039\">Joyce, James (23730)</a></li>\n",
       "<li><a href=\"/browse/authors/p#a93\">Plato (22292)</a></li>\n",
       "<li><a href=\"/browse/authors/g#a2858\">Garnett, Constance (21875)</a></li>\n",
       "<li><a href=\"/browse/authors/d#a507\">Dante Alighieri (21743)</a></li>\n",
       "<li><a href=\"/browse/authors/w#a1736\">Wyllie, David (Translator) (21640)</a></li>\n",
       "<li><a href=\"/browse/authors/k#a132\">Kipling, Rudyard (21443)</a></li>\n",
       "<li><a href=\"/browse/authors/j#a94\">Jowett, Benjamin (21122)</a></li>\n",
       "<li><a href=\"/browse/authors/b#a408\">Brontë, Charlotte (20562)</a></li>\n",
       "<li><a href=\"/browse/authors/v#a60\">Verne, Jules (20159)</a></li>\n",
       "<li><a href=\"/browse/authors/g#a27\">Gilman, Charlotte Perkins (20102)</a></li>\n",
       "<li><a href=\"/browse/authors/m#a36\">Montgomery, L. M. (Lucy Maud) (19744)</a></li>\n",
       "<li><a href=\"/browse/authors/d#a492\">Dumas, Alexandre (19337)</a></li>\n",
       "<li><a href=\"/browse/authors/d#a1896\">Doré, Gustave (19214)</a></li>\n",
       "<li><a href=\"/browse/authors/t#a9854\">Townsend, F. H. (Frederick Henry) (18756)</a></li>\n",
       "<li><a href=\"/browse/authors/s#a467\">Shaw, Bernard (18450)</a></li>\n",
       "<li><a href=\"/browse/authors/j#a113\">James, Henry (18157)</a></li>\n",
       "<li><a href=\"/browse/authors/s#a190\">Stoker, Bram (17877)</a></li>\n",
       "<li><a href=\"/browse/authors/u#a31855\">United States. Office of Strategic Services (17777)</a></li>\n",
       "<li><a href=\"/browse/authors/b#a10\">Barrie, J. M. (James Matthew) (17510)</a></li>\n",
       "<li><a href=\"/browse/authors/l#a9473\">Leech, John (17421)</a></li>\n",
       "<li><a href=\"/browse/authors/g#a971\">Grimm, Jacob (17376)</a></li>\n",
       "<li><a href=\"/browse/authors/g#a972\">Grimm, Wilhelm (17376)</a></li>\n",
       "<li><a href=\"/browse/authors/r#a355\">Russell, Bertrand (17367)</a></li>\n",
       "<li><a href=\"/browse/authors/a#a102\">Alcott, Louisa May (17189)</a></li>\n",
       "<li><a href=\"/browse/authors/r#a572\">Rand, Ayn (17053)</a></li>\n",
       "<li><a href=\"/browse/authors/t#a54\">Thoreau, Henry David (16986)</a></li>\n",
       "<li><a href=\"/browse/authors/k#a37155\">Kemble, E. W. (Edward Windsor) (16740)</a></li>\n",
       "<li><a href=\"/browse/authors/c#a451\">Christie, Agatha (16189)</a></li>\n",
       "<li><a href=\"/browse/authors/h#a85\">Hugo, Victor (16018)</a></li>\n",
       "<li><a href=\"/browse/authors/d#a204\">Defoe, Daniel (16001)</a></li>\n",
       "<li><a href=\"/browse/authors/c#a80\">Chesterton, G. K. (Gilbert Keith) (15598)</a></li>\n",
       "<li><a href=\"/browse/authors/c#a708\">Chekhov, Anton Pavlovich (15524)</a></li>\n",
       "<li><a href=\"/browse/authors/l#a79\">Lang, Andrew (15468)</a></li>\n",
       "<li><a href=\"/browse/authors/f#a2703\">Foote, Mary Hallock (15107)</a></li>\n",
       "<li><a href=\"/browse/authors/i#a31265\">Ipsen, Ludvig Sandöe (15018)</a></li>\n",
       "<li><a href=\"/browse/authors/a#a31267\">Anthony, A. V. S. (Andrew Varick Stout) (15018)</a></li>\n",
       "<li><a href=\"/browse/authors/p#a907\">Pope, Alexander (14854)</a></li>\n",
       "<li><a href=\"/browse/authors/b#a73\">Burnett, Frances Hodgson (14682)</a></li>\n",
       "<li><a href=\"/browse/authors/c#a505\">Cervantes Saavedra, Miguel de (14674)</a></li>\n",
       "<li><a href=\"/browse/authors/d#a4931\">Derbyshire, Charles E. (14267)</a></li>\n",
       "<li><a href=\"/browse/authors/m#a500\">Maude, Louise (14230)</a></li>\n",
       "<li><a href=\"/browse/authors/b#a251\">Balzac, Honoré de (14229)</a></li>\n",
       "<li><a href=\"/browse/authors/m#a4589\">Maude, Aylmer (14217)</a></li>\n",
       "<li><a href=\"/browse/authors/w#a1961\">Widger, David (14014)</a></li>\n",
       "<li><a href=\"/browse/authors/b#a748\">Butler, Samuel (13458)</a></li>\n",
       "<li><a href=\"/browse/authors/m#a563\">Machiavelli, Niccolò (13231)</a></li>\n",
       "<li><a href=\"/browse/authors/b#a1708\">Byron, George Gordon Byron, Baron (13087)</a></li>\n",
       "<li><a href=\"/browse/authors/w#a783\">Wodehouse, P. G. (Pelham Grenville) (13073)</a></li>\n",
       "<li><a href=\"/browse/authors/m#a1355\">Morley, Henry (12986)</a></li>\n",
       "<li><a href=\"/browse/authors/m#a6950\">Mirbeau, Octave (12801)</a></li>\n",
       "<li><a href=\"/browse/authors/d#a226\">Du Bois, W. E. B. (William Edward Burghardt) (12764)</a></li>\n",
       "<li><a href=\"/browse/authors/h#a23\">Hardy, Thomas (12595)</a></li>\n",
       "<li><a href=\"/browse/authors/w#a104\">Wharton, Edith (12485)</a></li>\n",
       "<li><a href=\"/browse/authors/p#a292\">Potter, Beatrix (12185)</a></li>\n",
       "<li><a href=\"/browse/authors/r#a2297\">Robertson, James Alexander (12074)</a></li>\n",
       "<li><a href=\"/browse/authors/a#a2298\">Andersen, H. C. (Hans Christian) (11807)</a></li>\n",
       "<li><a href=\"/browse/authors/h#a941\">Hesse, Hermann (11788)</a></li>\n",
       "<li><a href=\"/browse/authors/m#a306\">Maupassant, Guy de (11700)</a></li>\n",
       "<li><a href=\"/browse/authors/s#a59\">Scott, Walter (11595)</a></li>\n",
       "<li><a href=\"/browse/authors/m#a564\">Marriott, W. K. (William Kenaz) (11588)</a></li>\n",
       "<li><a href=\"/browse/authors/b#a206\">Bierce, Ambrose (11502)</a></li>\n",
       "<li><a href=\"/browse/authors/c#a100\">Chopin, Kate (11268)</a></li>\n",
       "<li><a href=\"/browse/authors/c#a3622\">Cary, Henry Francis (11045)</a></li>\n",
       "<li><a href=\"/browse/authors/b#a898\">Burton, Richard Francis, Sir (11001)</a></li>\n",
       "<li><a href=\"/browse/authors/b#a2296\">Blair, Emma Helen (10938)</a></li>\n",
       "<li><a href=\"/browse/authors/g#a586\">Goethe, Johann Wolfgang von (10797)</a></li>\n",
       "<li><a href=\"/browse/authors/b#a5446\">Bourne, Edward Gaylord (10677)</a></li>\n",
       "<li><a href=\"/browse/authors/v#a913\">Voltaire (10507)</a></li>\n",
       "<li><a href=\"/browse/authors/d#a34510\">Douglass, Frederick (10499)</a></li>\n",
       "<li><a href=\"/browse/authors/o#a506\">Ormsby, John (10426)</a></li>\n",
       "<li><a href=\"/browse/authors/s#a115\">Stowe, Harriet Beecher (10204)</a></li>\n",
       "<li><a href=\"/browse/authors/r#a44215\">Rhead, Louis (10191)</a></li>\n",
       "<li><a href=\"/browse/authors/e#a90\">Eliot, George (10178)</a></li>\n",
       "<li><a href=\"/browse/authors/s#a28358\">Silverberg, Robert (10099)</a></li>\n",
       "<li><a href=\"/browse/authors/c#a2229\">Craig, Austin (10040)</a></li>\n",
       "</ol>\n",
       "<div class=\"padded\">\n",
       "<ul>\n",
       "<li><a href=\"#books-last1\">Top 100 EBooks yesterday</a></li>\n",
       "<li><a href=\"#authors-last1\">Top 100 Authors yesterday</a></li>\n",
       "<li><a href=\"#books-last7\">Top 100 EBooks last 7 days</a></li>\n",
       "<li><a href=\"#authors-last7\">Top 100 Authors last 7 days</a></li>\n",
       "<li><a href=\"#books-last30\">Top 100 EBooks last 30 days</a></li>\n",
       "<li><a href=\"#authors-last30\">Top 100 Authors last 30 days</a></li>\n",
       "</ul>\n",
       "</div>\n",
       "</div><!--content ending-->\n",
       "</div>\n",
       "<div class=\"footer\"><!-- start footer --> <ul>\n",
       "<li>\n",
       "<a href=\"/policy/privacy_policy.html\" title=\"Privacy Policy\">Privacy policy</a>\n",
       "</li>\n",
       "<li>\n",
       "<a href=\"/about/\" title=\"About Project Gutenberg\">About Project Gutenberg</a>\n",
       "</li>\n",
       "<li>\n",
       "<a href=\"/policy/terms_of_use.html\" title=\"Terms of Use\">Terms of Use</a>\n",
       "</li>\n",
       "<li>\n",
       "<a href=\"/about/contact_information.html\" title=\"Contact Information\">Contact Information</a>\n",
       "</li>\n",
       "<li><a href=\"/help/\" title=\"Get Help\">Get Help</a></li>\n",
       "</ul>\n",
       "<a href=\"https://www.ibiblio.org/\" title=\"Project Gutenberg is hosted by ibiblio\">\n",
       "<img alt=\"iBiblio\" src=\"/gutenberg/ibiblio-logo.png\"/>\n",
       "</a>\n",
       "</div><!-- footer ending-->\n",
       "<!-- body ending -->\n",
       "</body>\n",
       "</html>"
      ]
     },
     "execution_count": 305,
     "metadata": {},
     "output_type": "execute_result"
    }
   ],
   "source": [
    "soup = BeautifulSoup(contents, 'html.parser')\n",
    "soup"
   ]
  },
  {
   "cell_type": "markdown",
   "metadata": {},
   "source": [
    "### Task 6\n",
    "Find all the href tags and store them in the list of links. Check what the list looks like – print the first 30 elements.\n",
    "\n"
   ]
  },
  {
   "cell_type": "code",
   "execution_count": 306,
   "metadata": {},
   "outputs": [],
   "source": [
    "lst_links=[]"
   ]
  },
  {
   "cell_type": "code",
   "execution_count": 307,
   "metadata": {},
   "outputs": [],
   "source": [
    "# Find all the href tags and store them in the list of links\n",
    "for link in soup.find_all('a'):\n",
    "    #print(link.get('href'))\n",
    "    lst_links.append(link.get('href'))"
   ]
  },
  {
   "cell_type": "code",
   "execution_count": 308,
   "metadata": {},
   "outputs": [
    {
     "data": {
      "text/plain": [
       "['/',\n",
       " '/about/',\n",
       " '/about/',\n",
       " '/policy/collection_development.html',\n",
       " '/about/contact_information.html',\n",
       " '/about/background/',\n",
       " '/policy/permission.html',\n",
       " '/policy/privacy_policy.html',\n",
       " '/policy/terms_of_use.html',\n",
       " '/ebooks/',\n",
       " '/ebooks/',\n",
       " '/ebooks/bookshelf/',\n",
       " '/browse/scores/top',\n",
       " '/ebooks/offline_catalogs.html',\n",
       " '/help/',\n",
       " '/help/',\n",
       " '/help/copyright.html',\n",
       " '/help/errata.html',\n",
       " '/help/file_formats.html',\n",
       " '/help/faq.html',\n",
       " '/policy/',\n",
       " '/help/public_domain_ebook_submission.html',\n",
       " '/help/submitting_your_own_work.html',\n",
       " '/help/mobile.html',\n",
       " '/attic/',\n",
       " '/donate/',\n",
       " '/donate/',\n",
       " '#books-last1',\n",
       " '#authors-last1',\n",
       " '#books-last7']"
      ]
     },
     "execution_count": 308,
     "metadata": {},
     "output_type": "execute_result"
    }
   ],
   "source": [
    "lst_links[:30]"
   ]
  },
  {
   "cell_type": "markdown",
   "metadata": {},
   "source": [
    "### Task 7\n",
    "Use a regular expression to find the numeric digits in these links. These are the file numbers for the top 100 eBooks.\n"
   ]
  },
  {
   "cell_type": "code",
   "execution_count": 310,
   "metadata": {},
   "outputs": [],
   "source": [
    "for i in range(19,119):\n",
    "    link=lst_links[i]\n",
    "    link=link.strip()\n",
    "    # Regular expression to find the numeric digits in the link (href) string\n",
    "    n=re.findall('[0-9]+',link)\n",
    "    if len(n)==1:\n",
    "        # Append the filenumber casted as integer\n",
    "        booknum.append(int(n[0]))"
   ]
  },
  {
   "cell_type": "code",
   "execution_count": 311,
   "metadata": {},
   "outputs": [
    {
     "name": "stdout",
     "output_type": "stream",
     "text": [
      "\n",
      "The file numbers for the top 100 ebooks on Gutenberg are shown below\n",
      "----------------------------------------------------------------------\n",
      "[1, 1, 7, 7, 30, 30, 1342, 84, 11, 98, 2701, 1661, 174, 57775, 64317, 74, 65341, 844, 205, 46, 2591, 345, 43, 1260, 65337, 5200, 1400, 4300, 16, 2600, 76, 766, 219, 1952, 1232, 2542, 5740, 2852, 158, 1080, 768, 65339, 55, 45, 35899, 65335, 6130, 120, 65345, 58585, 514, 1497, 2554, 19797, 902, 27827, 65343, 996, 1250, 35249, 135, 1184, 25344, 1837, 863, 1727, 5739, 30254, 244, 43453, 203, 63256, 829, 36, 1399, 2814, 2500, 730, 3600, 40068, 408, 4363, 1998, 236, 17635, 16328, 42108, 3825, 65331, 521, 160, 35]\n"
     ]
    }
   ],
   "source": [
    "print (\"\\nThe file numbers for the top 100 ebooks on Gutenberg are shown below\\n\"+\"-\"*70)\n",
    "print(booknum)"
   ]
  },
  {
   "cell_type": "markdown",
   "metadata": {},
   "source": [
    "### Task 8\n",
    "Initialize the empty list to hold the file numbers over an appropriate range and use regex to find the numeric digits in the link href string. Use the findall method.\n"
   ]
  },
  {
   "cell_type": "code",
   "execution_count": 314,
   "metadata": {},
   "outputs": [
    {
     "name": "stdout",
     "output_type": "stream",
     "text": [
      "\n",
      "The file numbers for the top 100 ebooks on Gutenberg are shown below\n",
      "----------------------------------------------------------------------\n",
      "[1, 1, 7, 7, 30, 30, 1342, 84, 11, 98, 2701, 1661, 174, 57775, 64317, 74, 65341, 844, 205, 46, 2591, 345, 43, 1260, 65337, 5200, 1400, 4300, 16, 2600, 76, 766, 219, 1952, 1232, 2542, 5740, 2852, 158, 1080, 768, 65339, 55, 45, 35899, 65335, 6130, 120, 65345, 58585, 514, 1497, 2554, 19797, 902, 27827, 65343, 996, 1250, 35249, 135, 1184, 25344, 1837, 863, 1727, 5739, 30254, 244, 43453, 203, 63256, 829, 36, 1399, 2814, 2500, 730, 3600, 40068, 408, 4363, 1998, 236, 17635, 16328, 42108, 3825, 65331, 521, 160, 35]\n"
     ]
    }
   ],
   "source": [
    "booknum=[]\n",
    "\n",
    "for i in range(19,119):\n",
    "    link=lst_links[i]\n",
    "    link=link.strip()\n",
    "    # Regular expression to find the numeric digits in the link (href) string\n",
    "    n=re.findall('[0-9]+',link)\n",
    "    if len(n)==1:\n",
    "        # Append the filenumber casted as integer\n",
    "        booknum.append(int(n[0]))\n",
    "        \n",
    "print (\"\\nThe file numbers for the top 100 ebooks on Gutenberg are shown below\\n\"+\"-\"*70)\n",
    "print(booknum)"
   ]
  },
  {
   "cell_type": "markdown",
   "metadata": {},
   "source": [
    "### Task 9\n",
    "What does the soup object's text look like? Use the .text method and print only the first 2,000 characters (do not print the whole thing, as it is too long).\n",
    "\n",
    "\n"
   ]
  },
  {
   "cell_type": "code",
   "execution_count": 315,
   "metadata": {},
   "outputs": [
    {
     "name": "stdout",
     "output_type": "stream",
     "text": [
      "\n",
      "\n",
      "\n",
      "\n",
      "Top 100 | Project Gutenberg\n",
      "\n",
      "\n",
      "\n",
      "\n",
      "\n",
      "\n",
      "\n",
      "\n",
      "\n",
      "\n",
      "\n",
      "\n",
      "\n",
      "\n",
      "\n",
      "\n",
      "\n",
      "\n",
      "\n",
      "\n",
      "\n",
      "\n",
      "\n",
      "\n",
      "\n",
      "\n",
      "\n",
      "Menu▾\n",
      "\n",
      "\n",
      "\n",
      "About\n",
      "          ▾\n",
      "\n",
      "▾\n",
      "\n",
      "\n",
      "About Project Gutenberg\n",
      "Collection Development\n",
      "Contact Us\n",
      "History & Philosophy\n",
      "Permissions & License\n",
      "Privacy Policy\n",
      "Terms of Use\n",
      "\n",
      "\n",
      "\n",
      "Search and Browse\n",
      "      \t  ▾\n",
      "\n",
      "▾\n",
      "\n",
      "\n",
      "Book Search\n",
      "Bookshelves\n",
      "Frequently Downloaded\n",
      "Offline Catalogs\n",
      "\n",
      "\n",
      "\n",
      "Help\n",
      "          ▾\n",
      "\n",
      "▾\n",
      "\n",
      "\n",
      "All help topics →\n",
      "Copyright Procedures\n",
      "Errata, Fixes and Bug Reports\n",
      "File Formats\n",
      "Frequently Asked Questions\n",
      "Policies →\n",
      "Public Domain eBook Submission\n",
      "Submitting Your Own Work\n",
      "Tablets, Phones and eReaders\n",
      "The Attic →\n",
      "\n",
      "\n",
      "Donate\n",
      "\n",
      "\n",
      "\n",
      "\n",
      "\n",
      "\n",
      "\n",
      "\n",
      "\n",
      "\n",
      "Donation\n",
      "\n",
      "\n",
      "\n",
      "\n",
      "\n",
      "\n",
      "\n",
      "Frequently Viewed or Downloaded\n",
      "These listings are based on the number of times each eBook gets downloaded.\n",
      "      Multiple downloads from the same Internet address on the same day count as one download, and addresses that download more than 100 eBooks in a day are considered robots and are not counted.\n",
      "\n",
      "Downloaded Books\n",
      "2021-05-15133040\n",
      "last 7 days1105659\n",
      "last 30 days4879416\n",
      "\n",
      "\n",
      "\n",
      "Top 100 EBooks yesterday\n",
      "Top 100 Authors yesterday\n",
      "Top 100 EBooks last 7 days\n",
      "Top 100 Authors last 7 days\n",
      "Top 100 EBooks last 30 days\n",
      "Top 100 Authors last 30 days\n",
      "\n",
      "\n",
      "Top 100 EBooks yesterday\n",
      "\n",
      "Pride and Prejudice by Jane Austen (1261)\n",
      "Frankenstein; Or, The Modern Prometheus by Mary Wollstonecraft Shelley (1053)\n",
      "Alice's Adventures in Wonderland by Lewis Carroll (678)\n",
      "A Tale of Two Cities by Charles Dickens (586)\n",
      "Moby Dick; Or, The Whale by Herman Melville (538)\n",
      "The Adventures of Sherlock Holmes by Arthur Conan Doyle (537)\n",
      "The Picture of Dorian Gray by Oscar Wilde (490)\n",
      "Le jardin des supplices by Octave Mirbeau (469)\n",
      "The Great Gatsby by F. Scott  Fitzgerald (468)\n",
      "The Adventures of Tom Sawyer, Complete by Mark Twain (425)\n",
      "Treatise on Poisons by Sir Robert Christison (422)\n",
      "The Importance of Being Earnest: A Trivial Comedy for Serious People by Oscar Wilde (391)\n",
      "Walden, and On The Duty Of Civil Disobedience by Henry David Thoreau (384)\n",
      "A Christmas Carol in Prose; Being a Ghost Story of Christmas by Charles Dickens\n"
     ]
    }
   ],
   "source": [
    "print(soup.text[:2000])"
   ]
  },
  {
   "cell_type": "markdown",
   "metadata": {},
   "source": [
    "### Task 10\n",
    "Search in the extracted text (using a regular expression) from the soup object to find the names of the top 100 eBooks (yesterday's ranking).\n",
    "\n"
   ]
  },
  {
   "cell_type": "code",
   "execution_count": 316,
   "metadata": {},
   "outputs": [],
   "source": [
    "lst_titles_temp=[]\n",
    "start_idx=soup.text.splitlines().index('Top 100 EBooks yesterday')\n"
   ]
  },
  {
   "cell_type": "markdown",
   "metadata": {},
   "source": [
    "### Task 11\n",
    "Create a starting index. It should point at the text Top 100 Ebooks yesterday. Use the splitlines method of soup.text. It splits the lines of text of the soup object.\n"
   ]
  },
  {
   "cell_type": "code",
   "execution_count": null,
   "metadata": {},
   "outputs": [],
   "source": [
    "start_idx=soup.text.splitlines().index('Top 100 EBooks yesterday')"
   ]
  },
  {
   "cell_type": "markdown",
   "metadata": {},
   "source": [
    "### Task 12\n",
    "Loop 1-100 to add the strings of the next 100 lines to this temporary list. Hint: use the splitlines method.\n",
    "\n"
   ]
  },
  {
   "cell_type": "markdown",
   "metadata": {},
   "source": [
    "### Task 13\n",
    "Use a regular expression to extract only text from the name strings and append it to an empty list. Use match and span to find the indices and use them.\n",
    "\n"
   ]
  },
  {
   "cell_type": "code",
   "execution_count": 318,
   "metadata": {},
   "outputs": [],
   "source": [
    "lst_titles=[]\n",
    "for i in range(100):\n",
    "    id1,id2=re.match('^[a-zA-Z ]*',lst_titles_temp[i]).span()\n",
    "    lst_titles.append(lst_titles_temp[i][id1:id2])"
   ]
  },
  {
   "cell_type": "code",
   "execution_count": 319,
   "metadata": {},
   "outputs": [
    {
     "name": "stdout",
     "output_type": "stream",
     "text": [
      "Top \n",
      "Top \n",
      "Top \n",
      "Top \n",
      "\n",
      "\n",
      "Top \n",
      "\n",
      "Pride and Prejudice by Jane Austen \n",
      "Frankenstein\n",
      "Alice\n",
      "A Tale of Two Cities by Charles Dickens \n",
      "Moby Dick\n",
      "The Adventures of Sherlock Holmes by Arthur Conan Doyle \n",
      "The Picture of Dorian Gray by Oscar Wilde \n",
      "Le jardin des supplices by Octave Mirbeau \n",
      "The Great Gatsby by F\n",
      "The Adventures of Tom Sawyer\n",
      "Treatise on Poisons by Sir Robert Christison \n",
      "The Importance of Being Earnest\n",
      "Walden\n",
      "A Christmas Carol in Prose\n",
      "Grimms\n",
      "Dracula by Bram Stoker \n",
      "The Strange Case of Dr\n",
      "Jane Eyre\n",
      "The Age of Justinian and Theodora\n",
      "Metamorphosis by Franz Kafka \n",
      "Great Expectations by Charles Dickens \n",
      "Ulysses by James Joyce \n",
      "Peter Pan by J\n",
      "War and Peace by graf Leo Tolstoy \n",
      "Adventures of Huckleberry Finn by Mark Twain \n",
      "David Copperfield by Charles Dickens \n",
      "Heart of Darkness by Joseph Conrad \n",
      "The Yellow Wallpaper by Charlotte Perkins Gilman \n",
      "Il Principe\n",
      "Et dukkehjem\n",
      "Tractatus Logico\n",
      "The Hound of the Baskervilles by Arthur Conan Doyle \n",
      "Emma by Jane Austen \n",
      "A Modest Proposal by Jonathan Swift \n",
      "Wuthering Heights by Emily Bront\n",
      "Vengeances Corses by comte Pierre Paul Raoul Colonna de Cesari\n",
      "The Wonderful Wizard of Oz by L\n",
      "Anne of Green Gables by L\n",
      "The Philippines a Century Hence by Jos\n",
      "Arms and Armor of the Pilgrims\n",
      "The Iliad by Homer \n",
      "Treasure Island by Robert Louis Stevenson \n",
      "Under Three Flags by Bert Leston Taylor and Alvin T\n",
      "The Prophet by Kahlil Gibran \n",
      "Little Women by Louisa May Alcott \n",
      "The Republic by Plato \n",
      "Prestuplenie i nakazanie\n",
      "Dracula by Bram Stoker \n",
      "The Happy Prince\n",
      "The Kama Sutra of Vatsyayana by Vatsyayana \n",
      "The Ambassador\n",
      "Don Quixote by Miguel de Cervantes Saavedra \n",
      "Anthem by Ayn Rand \n",
      "A Japanese Boy by Shigemi Shiukichi \n",
      "Les Mis\n",
      "The Count of Monte Cristo\n",
      "The Scarlet Letter by Nathaniel Hawthorne \n",
      "The Prince and the Pauper by Mark Twain \n",
      "The Mysterious Affair at Styles by Agatha Christie \n",
      "The Odyssey by Homer \n",
      "Korean\n",
      "The Romance of Lust\n",
      "A Study in Scarlet by Arthur Conan Doyle \n",
      "A Pickle for the Knowing Ones by Timothy Dexter \n",
      "Uncle Tom\n",
      "The American Diary of a Japanese Girl by Yon\n",
      "Gulliver\n",
      "The War of the Worlds by H\n",
      "Anna Karenina by graf Leo Tolstoy \n",
      "Dubliners by James Joyce \n",
      "Siddhartha by Hermann Hesse \n",
      "Oliver Twist by Charles Dickens \n",
      "Essays of Michel de Montaigne \n",
      "The Catholic World\n",
      "The Souls of Black Folk by W\n",
      "Beyond Good and Evil by Friedrich Wilhelm Nietzsche \n",
      "Also sprach Zarathustra\n",
      "The Jungle Book by Rudyard Kipling \n",
      "Repertory of The Comedie Humaine\n",
      "Beowulf\n",
      "The Slang Dictionary\n",
      "Pygmalion by Bernard Shaw \n",
      "The Cosmic Looters by Edmond Hamilton \n",
      "The Life and Adventures of Robinson Crusoe by Daniel Defoe \n",
      "The Awakening\n",
      "The Time Machine by H\n",
      "The Golden Bough\n",
      "I\n",
      "An Index of The Divine Comedy by Dante by Dante Alighieri \n",
      "Ars\n",
      "Carmilla by Joseph Sheridan Le Fanu \n",
      "The Personal Relation in Industry by Jr\n"
     ]
    }
   ],
   "source": [
    "for l in lst_titles:\n",
    "    print(l)"
   ]
  },
  {
   "cell_type": "markdown",
   "metadata": {},
   "source": [
    "### Activity 10: Building Your Own Movie Database by Reading an API\n"
   ]
  },
  {
   "cell_type": "markdown",
   "metadata": {},
   "source": [
    "### Task 1 \n",
    "Import urllib.request, urllib.parse, urllib.error, and json.\n"
   ]
  },
  {
   "cell_type": "code",
   "execution_count": 320,
   "metadata": {},
   "outputs": [],
   "source": [
    "import urllib.request, urllib.parse, urllib.error\n",
    "import json"
   ]
  },
  {
   "cell_type": "markdown",
   "metadata": {},
   "source": [
    "### Task 2 \n",
    "Load the secret API key (you have to get one from the OMDb website and use that; it has a daily limit of 1,000) from a JSON file stored in the same folder in a variable, by using json.loads.\n",
    "\n"
   ]
  },
  {
   "cell_type": "code",
   "execution_count": 341,
   "metadata": {},
   "outputs": [
    {
     "data": {
      "text/plain": [
       "'ab4b8ae9'"
      ]
     },
     "execution_count": 341,
     "metadata": {},
     "output_type": "execute_result"
    }
   ],
   "source": [
    "with open('APIkey.json') as f:\n",
    "    keys = json.load(f)\n",
    "    omdbapi = keys['OMDBapi']\n",
    "\n",
    "omdbapi\n",
    "#18cdc959"
   ]
  },
  {
   "cell_type": "markdown",
   "metadata": {},
   "source": [
    "### Task 3 \n",
    "Obtain a key and store it in JSON as APIkeys.json.\n"
   ]
  },
  {
   "cell_type": "code",
   "execution_count": null,
   "metadata": {},
   "outputs": [],
   "source": [
    "# registred to site to obtain url and API Key"
   ]
  },
  {
   "cell_type": "markdown",
   "metadata": {},
   "source": [
    "### Task 4\n",
    "Open the APIkeys.json file.\n"
   ]
  },
  {
   "cell_type": "code",
   "execution_count": 350,
   "metadata": {},
   "outputs": [],
   "source": [
    "# updated APIkey in the file"
   ]
  },
  {
   "cell_type": "markdown",
   "metadata": {},
   "source": [
    "### Task 5\n",
    "Assign the OMDb portal (http://www.omdbapi.com/?) as a string to a variable.\n",
    "\n"
   ]
  },
  {
   "cell_type": "code",
   "execution_count": 351,
   "metadata": {},
   "outputs": [],
   "source": [
    "serviceurl = 'http://www.omdbapi.com/?'"
   ]
  },
  {
   "cell_type": "markdown",
   "metadata": {},
   "source": [
    "### Task 6\n",
    "Create a variable called apikey with the last portion of the URL (&apikey=secretapikey), where secretapikey is your own API key.\n"
   ]
  },
  {
   "cell_type": "code",
   "execution_count": 352,
   "metadata": {},
   "outputs": [],
   "source": [
    "\n",
    "apikey = '&apikey='+omdbapi"
   ]
  },
  {
   "cell_type": "markdown",
   "metadata": {},
   "source": [
    "### Task 7\n",
    "Write a utility function called print_json to print the movie data from a JSON file (which we will get from the portal).\n"
   ]
  },
  {
   "cell_type": "code",
   "execution_count": 353,
   "metadata": {},
   "outputs": [],
   "source": [
    "def print_json(json_data):\n",
    "    list_keys=['Title', 'Year', 'Rated', 'Released', 'Runtime', 'Genre', 'Director', 'Writer', \n",
    "               'Actors', 'Plot', 'Language', 'Country', 'Awards', 'Ratings', \n",
    "               'Metascore', 'imdbRating', 'imdbVotes', 'imdbID']\n",
    "    print(\"-\"*50)\n",
    "    for k in list_keys:\n",
    "        if k in list(json_data.keys()):\n",
    "            print(f\"{k}: {json_data[k]}\")\n",
    "    print(\"-\"*50)"
   ]
  },
  {
   "cell_type": "markdown",
   "metadata": {},
   "source": [
    "### Task 8\n",
    "Write a utility function to download a poster of the movie based on the information from the JSON dataset and save it in your local folder. Use the os module. The poster data is stored in the JSON key Poster. Use the Python command to open a file and write the poster data. Close the file after you're done. This function will save the poster data as an image file.\n",
    "\n"
   ]
  },
  {
   "cell_type": "code",
   "execution_count": 354,
   "metadata": {},
   "outputs": [],
   "source": [
    "def save_poster(json_data):\n",
    "    import os\n",
    "    title = json_data['Title']\n",
    "    poster_url = json_data['Poster']\n",
    "    # Splits the poster url by '.' and picks up the last string as file extension\n",
    "    poster_file_extension=poster_url.split('.')[-1]\n",
    "    # Reads the image file from web\n",
    "    poster_data = urllib.request.urlopen(poster_url).read()\n",
    "        \n",
    "    savelocation=os.getcwd()+'\\\\'+'Posters'+'\\\\'\n",
    "    # Creates new directory if the directory does not exist. Otherwise, just use the existing path.\n",
    "    if not os.path.isdir(savelocation):\n",
    "        os.mkdir(savelocation)\n",
    "    \n",
    "    filename=savelocation+str(title)+'.'+poster_file_extension\n",
    "    f=open(filename,'wb')\n",
    "    f.write(poster_data)\n",
    "    f.close()"
   ]
  },
  {
   "cell_type": "markdown",
   "metadata": {},
   "source": [
    "### Task 9\n",
    "Write a utility function called search_movie to search for a movie by its name, print the downloaded JSON data, and save the movie poster in the local folder. Use a try-except loop for this. Use the previously created serviceurl and apikey variables. You have to pass on a dictionary with a key, t, and the movie name as the corresponding value to the urllib.parse.urlencode() function and then add the serviceurl and apikey to the output of the function to construct the full URL. This URL will be used to access the data. The JSON data has a key called Response. If it is True, that means the read was successful. Check this before processing the data. If it's not successful, then print the JSON key Error, which will contain the appropriate error message returned by the movie database.\n",
    "\n"
   ]
  },
  {
   "cell_type": "code",
   "execution_count": 355,
   "metadata": {},
   "outputs": [],
   "source": [
    "def search_movie(title):\n",
    "    try:\n",
    "        url = serviceurl + urllib.parse.urlencode({'t': str(title)})+apikey\n",
    "        print(f'Retrieving the data of \"{title}\" now... ')\n",
    "        print(url)\n",
    "        uh = urllib.request.urlopen(url)\n",
    "        data = uh.read()\n",
    "        json_data=json.loads(data)\n",
    "        \n",
    "        if json_data['Response']=='True':\n",
    "            print_json(json_data)\n",
    "            # Asks user whether to download the poster of the movie\n",
    "            if json_data['Poster']!='N/A':\n",
    "                save_poster(json_data)\n",
    "        else:\n",
    "            print(\"Error encountered: \",json_data['Error'])\n",
    "    \n",
    "    except urllib.error.URLError as e:\n",
    "        print(f\"ERROR: {e.reason}\")"
   ]
  },
  {
   "cell_type": "markdown",
   "metadata": {},
   "source": [
    "### Task 10\n",
    "Test the search_movie function by entering Titanic.\n",
    "\n"
   ]
  },
  {
   "cell_type": "code",
   "execution_count": 356,
   "metadata": {},
   "outputs": [
    {
     "name": "stdout",
     "output_type": "stream",
     "text": [
      "Retrieving the data of \"Titanic\" now... \n",
      "http://www.omdbapi.com/?t=Titanic&apikey=ab4b8ae9\n",
      "--------------------------------------------------\n",
      "Title: Titanic\n",
      "Year: 1997\n",
      "Rated: PG-13\n",
      "Released: 19 Dec 1997\n",
      "Runtime: 194 min\n",
      "Genre: Drama, Romance\n",
      "Director: James Cameron\n",
      "Writer: James Cameron\n",
      "Actors: Leonardo DiCaprio, Kate Winslet, Billy Zane, Kathy Bates\n",
      "Plot: A seventeen-year-old aristocrat falls in love with a kind but poor artist aboard the luxurious, ill-fated R.M.S. Titanic.\n",
      "Language: English, Swedish, Italian, French\n",
      "Country: USA, Mexico, Australia, Canada\n",
      "Awards: Won 11 Oscars. Another 114 wins & 83 nominations.\n",
      "Ratings: [{'Source': 'Internet Movie Database', 'Value': '7.8/10'}, {'Source': 'Rotten Tomatoes', 'Value': '89%'}, {'Source': 'Metacritic', 'Value': '75/100'}]\n",
      "Metascore: 75\n",
      "imdbRating: 7.8\n",
      "imdbVotes: 1,060,049\n",
      "imdbID: tt0120338\n",
      "--------------------------------------------------\n"
     ]
    }
   ],
   "source": [
    "search_movie(\"Titanic\")"
   ]
  },
  {
   "cell_type": "markdown",
   "metadata": {},
   "source": [
    "### Task 11\n",
    "Test the search_movie function by entering \"Random_error\" (obviously, this will not be found, and you should be able to check whether your error catching code is working properly)."
   ]
  },
  {
   "cell_type": "code",
   "execution_count": 347,
   "metadata": {},
   "outputs": [
    {
     "name": "stdout",
     "output_type": "stream",
     "text": [
      "Retrieving the data of \"Random_error\" now... \n",
      "http://www.omdbapi.com/?t=Random_error&apikey=ab4b8ae9\n",
      "Error encountered:  Movie not found!\n"
     ]
    }
   ],
   "source": [
    "search_movie(\"Random_error\")"
   ]
  },
  {
   "cell_type": "markdown",
   "metadata": {},
   "source": [
    "### Activity : Connect to the Twitter API and do a simple data pull"
   ]
  },
  {
   "cell_type": "markdown",
   "metadata": {},
   "source": [
    "### Task  a - g \n",
    "a. If you don’t have a twitter account – create one at twitter.com/signup (you can delete the account after this assignment)\n",
    "\n",
    "b. Sign in to apps.twitter.com\n",
    "\n",
    "c. Click “Create New App”\n",
    "\n",
    "d. Give your app a name and description\n",
    "\n",
    "e. Agree to the developer agreement – you will want to make sure to indicate this is for a class project, and this step can take several days to get through, so don’t wait until last minute to complete this portion of the assignment\n",
    "\n",
    "f. Create an access token\n",
    "\n",
    "g. You should receive a consumer key and a token\n"
   ]
  },
  {
   "cell_type": "markdown",
   "metadata": {},
   "source": [
    "h. Using either the instructions from the book on connecting to an API or for help look here – pull back data searching for “Bellevue University” and “Data Science” (or something else you are interested in)"
   ]
  },
  {
   "cell_type": "code",
   "execution_count": 374,
   "metadata": {},
   "outputs": [
    {
     "name": "stdout",
     "output_type": "stream",
     "text": [
      "Collecting python-twitter\n",
      "  Downloading python_twitter-3.5-py2.py3-none-any.whl (67 kB)\n",
      "\u001b[K     |████████████████████████████████| 67 kB 2.4 MB/s eta 0:00:01\n",
      "\u001b[?25hCollecting requests-oauthlib\n",
      "  Downloading requests_oauthlib-1.3.0-py2.py3-none-any.whl (23 kB)\n",
      "Requirement already satisfied: requests in /Users/madhukarayachit/opt/anaconda3/lib/python3.8/site-packages (from python-twitter) (2.24.0)\n",
      "Requirement already satisfied: future in /Users/madhukarayachit/opt/anaconda3/lib/python3.8/site-packages (from python-twitter) (0.18.2)\n",
      "Collecting oauthlib>=3.0.0\n",
      "  Downloading oauthlib-3.1.0-py2.py3-none-any.whl (147 kB)\n",
      "\u001b[K     |████████████████████████████████| 147 kB 4.0 MB/s eta 0:00:01\n",
      "\u001b[?25hRequirement already satisfied: certifi>=2017.4.17 in /Users/madhukarayachit/opt/anaconda3/lib/python3.8/site-packages (from requests->python-twitter) (2020.6.20)\n",
      "Requirement already satisfied: urllib3!=1.25.0,!=1.25.1,<1.26,>=1.21.1 in /Users/madhukarayachit/opt/anaconda3/lib/python3.8/site-packages (from requests->python-twitter) (1.25.11)\n",
      "Requirement already satisfied: chardet<4,>=3.0.2 in /Users/madhukarayachit/opt/anaconda3/lib/python3.8/site-packages (from requests->python-twitter) (3.0.4)\n",
      "Requirement already satisfied: idna<3,>=2.5 in /Users/madhukarayachit/opt/anaconda3/lib/python3.8/site-packages (from requests->python-twitter) (2.10)\n",
      "Installing collected packages: oauthlib, requests-oauthlib, python-twitter\n",
      "Successfully installed oauthlib-3.1.0 python-twitter-3.5 requests-oauthlib-1.3.0\n"
     ]
    }
   ],
   "source": [
    "# install twitter module\n",
    "!pip install python-twitter"
   ]
  },
  {
   "cell_type": "code",
   "execution_count": 375,
   "metadata": {},
   "outputs": [],
   "source": [
    "import twitter"
   ]
  },
  {
   "cell_type": "code",
   "execution_count": 378,
   "metadata": {},
   "outputs": [],
   "source": [
    "key='a2DXLVFos9wXyrJdH8uKaVXJs'\n",
    "secret='qBmTyLsoUWPLeDriexbHGzrrNrchfQjpHZlSTctgmJk6xHxb4M'\n",
    "token='1394130831229300736-yYZfdPr61t4al3iYUGtFdLr6FpXhID'\n",
    "token_secret='Nky612blKkmyeGKUccx29P4tNSpCUTFVjcYipnbuZQVWy'\n",
    "\n",
    "api = twitter.Api(consumer_key=key,\n",
    "  consumer_secret=secret,\n",
    "    access_token_key=token,\n",
    "    access_token_secret=token_secret)"
   ]
  },
  {
   "cell_type": "code",
   "execution_count": 379,
   "metadata": {},
   "outputs": [
    {
     "name": "stdout",
     "output_type": "stream",
     "text": [
      "{\"created_at\": \"Mon May 17 03:21:15 +0000 2021\", \"default_profile\": true, \"default_profile_image\": true, \"id\": 1394130831229300736, \"id_str\": \"1394130831229300736\", \"name\": \"mayachit\", \"profile_background_color\": \"F5F8FA\", \"profile_image_url\": \"http://abs.twimg.com/sticky/default_profile_images/default_profile_normal.png\", \"profile_image_url_https\": \"https://abs.twimg.com/sticky/default_profile_images/default_profile_normal.png\", \"profile_link_color\": \"1DA1F2\", \"profile_sidebar_border_color\": \"C0DEED\", \"profile_sidebar_fill_color\": \"DDEEF6\", \"profile_text_color\": \"333333\", \"profile_use_background_image\": true, \"screen_name\": \"mayachit1\", \"withheld_in_countries\": []}\n"
     ]
    }
   ],
   "source": [
    "print(api.VerifyCredentials())"
   ]
  },
  {
   "cell_type": "code",
   "execution_count": 380,
   "metadata": {},
   "outputs": [
    {
     "data": {
      "text/plain": [
       "[Status(ID=1396562917886205952, ScreenName=jaycchristine, Created=Sun May 23 20:25:21 +0000 2021, Text='RT @BellevueU: Jeff Stock was shocked when he learned that he and his wife were expecting quadruplets. Now, all 4 children are grown up and…'),\n",
       " Status(ID=1396553592107044868, ScreenName=StopVirtuaStalk, Created=Sun May 23 19:48:17 +0000 2021, Text='RT @BellevueU: Jeff Stock was shocked when he learned that he and his wife were expecting quadruplets. Now, all 4 children are grown up and…'),\n",
       " Status(ID=1396544001889554432, ScreenName=sinaibernal7, Created=Sun May 23 19:10:11 +0000 2021, Text='RT @BellevueU: Jeff Stock was shocked when he learned that he and his wife were expecting quadruplets. Now, all 4 children are grown up and…'),\n",
       " Status(ID=1396511440274661382, ScreenName=BellevueU, Created=Sun May 23 17:00:47 +0000 2021, Text='Jeff Stock was shocked when he learned that he and his wife were expecting quadruplets. Now, all 4 children are gro… https://t.co/O8uWtDF3xB'),\n",
       " Status(ID=1396440248402415622, ScreenName=ExpertsSkyCom, Created=Sun May 23 12:17:54 +0000 2021, Text='Bellevue University is a private university in Bellevue, Nebraska. It opened in 1966 and from the outset has focuse… https://t.co/fgokcD85hE'),\n",
       " Status(ID=1395902813977288704, ScreenName=GoFalcons19, Created=Sat May 22 00:42:20 +0000 2021, Text='@CalebLang22 @KeatonCandor Those students showed no class and were poor representatives of Bellevue University. Way… https://t.co/aqQ0Ox7r1O'),\n",
       " Status(ID=1395898836279758848, ScreenName=StopVirtuaStalk, Created=Sat May 22 00:26:31 +0000 2021, Text='RT @BellevueU: Donut give up on your dreams! 🍩🎓\\n\\nCongratulations to Hayley and all other soon-to-be Bellevue University graduates! 🎉\\n\\n#BUGr…'),\n",
       " Status(ID=1395816803536969728, ScreenName=BellevueU, Created=Fri May 21 19:00:33 +0000 2021, Text='Donut give up on your dreams! 🍩🎓\\n\\nCongratulations to Hayley and all other soon-to-be Bellevue University graduates!… https://t.co/MHglRSxR29'),\n",
       " Status(ID=1395810113596923909, ScreenName=BPWIowa, Created=Fri May 21 18:33:58 +0000 2021, Text='Congratulations to Janice Brown, recipient of our first TRAILBLAZ-HER Award! She has been active on BPW local, regi… https://t.co/ltAXD2YR5D'),\n",
       " Status(ID=1395696978856656900, ScreenName=MHSwahn, Created=Fri May 21 11:04:25 +0000 2021, Text=\"RT @EbonyGloverPhD: In light of Mental Health Awareness Month, I'm excited to join this panel to discuss Mental Health in the Black Communi…\")]"
      ]
     },
     "execution_count": 380,
     "metadata": {},
     "output_type": "execute_result"
    }
   ],
   "source": [
    "search_word='Bellevue University'\n",
    "api.GetSearch(term=search_word, since=2016-11-21, count=10)"
   ]
  },
  {
   "cell_type": "code",
   "execution_count": 381,
   "metadata": {},
   "outputs": [
    {
     "data": {
      "text/plain": [
       "[Status(ID=1396438505665007618, ScreenName=devisridhar, Created=Sun May 23 12:10:58 +0000 2021, Text='My take on current situation: variants will continue to cause issues but our vaccines (both doses!) are effective a… https://t.co/DqVjm12G4e'),\n",
       " Status(ID=1395963047093673986, ScreenName=michaelmina_lab, Created=Sat May 22 04:41:40 +0000 2021, Text='The public is getting a chance to see science discovery in action. It’s tough for scientists - can only imagine wha… https://t.co/8fuRcdIOxw'),\n",
       " Status(ID=1395951087706787843, ScreenName=CraigKellyMP, Created=Sat May 22 03:54:09 +0000 2021, Text='Follow the Science : \\n\\n‘’The accumulated data demonstrating the efficacy &amp; safety in the use of IVERMECTIN against… https://t.co/YAWnaPGlQ4'),\n",
       " Status(ID=1396568230760755204, ScreenName=BestOnlineWrit3, Created=Sun May 23 20:46:27 +0000 2021, Text='Kindly DM us if you need help in\\nComputer science \\nGeometry\\nPsychology\\nSociology\\nData analysis\\nMusic\\nThesis\\nProject… https://t.co/DWGwQbY62a'),\n",
       " Status(ID=1396568146170073095, ScreenName=weaver1085, Created=Sun May 23 20:46:07 +0000 2021, Text='RT @teneikaask_you: REMOTE Intern/PT opportunity! Hiring by MAY 30!➡️FREE training/exam prep - ServiceNow, Azure, Salesforce, Scrum, Data S…'),\n",
       " Status(ID=1396567939839574017, ScreenName=thefaridaadamu, Created=Sun May 23 20:45:18 +0000 2021, Text='@10xEliel @OwojoriErnest @emeka_boris @GiftOjeabulu_ @Nasereliver @risingodegua @Jhoie__ @alentyler My dear, I’m a… https://t.co/zgbYNTvDIm'),\n",
       " Status(ID=1396567921388933128, ScreenName=eelrekab, Created=Sun May 23 20:45:14 +0000 2021, Text='RT @eelrekab: #FREEDataScienceBooks: Add these three books to your reading list! https://t.co/2MrHem1upT'),\n",
       " Status(ID=1396567920340307974, ScreenName=Writerpay2016, Created=Sun May 23 20:45:13 +0000 2021, Text='We Deliver Affordable Academic Assistance in;\\nPowerPoint\\nComputer Science.\\nEconomics.\\nPsychology\\nSociology\\nData ana… https://t.co/MZw6nis4mn'),\n",
       " Status(ID=1396567877940043776, ScreenName=BroadhurstAndy, Created=Sun May 23 20:45:03 +0000 2021, Text=\"RT @ReicherStephen: If this is true it is a major scandal.\\nSelecting the evidence to fit the politics is the antithesis of 'following the s…\"),\n",
       " Status(ID=1396567873716432899, ScreenName=UAE_Forsan, Created=Sun May 23 20:45:02 +0000 2021, Text='HE Sarah bint Yousif Al Amiri: We formally commence the Science Phase of the Emirates Mars Mission with an aim to g… https://t.co/zVbceP3ocg')]"
      ]
     },
     "execution_count": 381,
     "metadata": {},
     "output_type": "execute_result"
    }
   ],
   "source": [
    "search_word='Data Science”'\n",
    "api.GetSearch(term=search_word, since=2016-11-21, count=10)"
   ]
  },
  {
   "cell_type": "markdown",
   "metadata": {},
   "source": [
    "### Activity : Visualization\n",
    "Using one of the datasets provided in Weeks 7 & 8, or a dataset of your own, choose 3 of the following visualizations to complete. You must submit via PDF along with your code. You are free to use Matplotlib, Seaborn or another package if you prefer."
   ]
  },
  {
   "cell_type": "code",
   "execution_count": 417,
   "metadata": {},
   "outputs": [],
   "source": [
    "df=pd.read_csv(\"data/Boston_housing.csv\")"
   ]
  },
  {
   "cell_type": "code",
   "execution_count": 418,
   "metadata": {},
   "outputs": [
    {
     "data": {
      "text/html": [
       "<div>\n",
       "<style scoped>\n",
       "    .dataframe tbody tr th:only-of-type {\n",
       "        vertical-align: middle;\n",
       "    }\n",
       "\n",
       "    .dataframe tbody tr th {\n",
       "        vertical-align: top;\n",
       "    }\n",
       "\n",
       "    .dataframe thead th {\n",
       "        text-align: right;\n",
       "    }\n",
       "</style>\n",
       "<table border=\"1\" class=\"dataframe\">\n",
       "  <thead>\n",
       "    <tr style=\"text-align: right;\">\n",
       "      <th></th>\n",
       "      <th>CRIM</th>\n",
       "      <th>ZN</th>\n",
       "      <th>INDUS</th>\n",
       "      <th>CHAS</th>\n",
       "      <th>NOX</th>\n",
       "      <th>RM</th>\n",
       "      <th>AGE</th>\n",
       "      <th>DIS</th>\n",
       "      <th>RAD</th>\n",
       "      <th>TAX</th>\n",
       "      <th>PTRATIO</th>\n",
       "      <th>B</th>\n",
       "      <th>LSTAT</th>\n",
       "      <th>PRICE</th>\n",
       "    </tr>\n",
       "  </thead>\n",
       "  <tbody>\n",
       "    <tr>\n",
       "      <th>0</th>\n",
       "      <td>0.00632</td>\n",
       "      <td>18.0</td>\n",
       "      <td>2.31</td>\n",
       "      <td>0</td>\n",
       "      <td>0.538</td>\n",
       "      <td>6.575</td>\n",
       "      <td>65.2</td>\n",
       "      <td>4.0900</td>\n",
       "      <td>1</td>\n",
       "      <td>296</td>\n",
       "      <td>15.3</td>\n",
       "      <td>396.90</td>\n",
       "      <td>4.98</td>\n",
       "      <td>24.0</td>\n",
       "    </tr>\n",
       "    <tr>\n",
       "      <th>1</th>\n",
       "      <td>0.02731</td>\n",
       "      <td>0.0</td>\n",
       "      <td>7.07</td>\n",
       "      <td>0</td>\n",
       "      <td>0.469</td>\n",
       "      <td>6.421</td>\n",
       "      <td>78.9</td>\n",
       "      <td>4.9671</td>\n",
       "      <td>2</td>\n",
       "      <td>242</td>\n",
       "      <td>17.8</td>\n",
       "      <td>396.90</td>\n",
       "      <td>9.14</td>\n",
       "      <td>21.6</td>\n",
       "    </tr>\n",
       "    <tr>\n",
       "      <th>2</th>\n",
       "      <td>0.02729</td>\n",
       "      <td>0.0</td>\n",
       "      <td>7.07</td>\n",
       "      <td>0</td>\n",
       "      <td>0.469</td>\n",
       "      <td>7.185</td>\n",
       "      <td>61.1</td>\n",
       "      <td>4.9671</td>\n",
       "      <td>2</td>\n",
       "      <td>242</td>\n",
       "      <td>17.8</td>\n",
       "      <td>392.83</td>\n",
       "      <td>4.03</td>\n",
       "      <td>34.7</td>\n",
       "    </tr>\n",
       "    <tr>\n",
       "      <th>3</th>\n",
       "      <td>0.03237</td>\n",
       "      <td>0.0</td>\n",
       "      <td>2.18</td>\n",
       "      <td>0</td>\n",
       "      <td>0.458</td>\n",
       "      <td>6.998</td>\n",
       "      <td>45.8</td>\n",
       "      <td>6.0622</td>\n",
       "      <td>3</td>\n",
       "      <td>222</td>\n",
       "      <td>18.7</td>\n",
       "      <td>394.63</td>\n",
       "      <td>2.94</td>\n",
       "      <td>33.4</td>\n",
       "    </tr>\n",
       "    <tr>\n",
       "      <th>4</th>\n",
       "      <td>0.06905</td>\n",
       "      <td>0.0</td>\n",
       "      <td>2.18</td>\n",
       "      <td>0</td>\n",
       "      <td>0.458</td>\n",
       "      <td>7.147</td>\n",
       "      <td>54.2</td>\n",
       "      <td>6.0622</td>\n",
       "      <td>3</td>\n",
       "      <td>222</td>\n",
       "      <td>18.7</td>\n",
       "      <td>396.90</td>\n",
       "      <td>5.33</td>\n",
       "      <td>36.2</td>\n",
       "    </tr>\n",
       "    <tr>\n",
       "      <th>...</th>\n",
       "      <td>...</td>\n",
       "      <td>...</td>\n",
       "      <td>...</td>\n",
       "      <td>...</td>\n",
       "      <td>...</td>\n",
       "      <td>...</td>\n",
       "      <td>...</td>\n",
       "      <td>...</td>\n",
       "      <td>...</td>\n",
       "      <td>...</td>\n",
       "      <td>...</td>\n",
       "      <td>...</td>\n",
       "      <td>...</td>\n",
       "      <td>...</td>\n",
       "    </tr>\n",
       "    <tr>\n",
       "      <th>501</th>\n",
       "      <td>0.06263</td>\n",
       "      <td>0.0</td>\n",
       "      <td>11.93</td>\n",
       "      <td>0</td>\n",
       "      <td>0.573</td>\n",
       "      <td>6.593</td>\n",
       "      <td>69.1</td>\n",
       "      <td>2.4786</td>\n",
       "      <td>1</td>\n",
       "      <td>273</td>\n",
       "      <td>21.0</td>\n",
       "      <td>391.99</td>\n",
       "      <td>9.67</td>\n",
       "      <td>22.4</td>\n",
       "    </tr>\n",
       "    <tr>\n",
       "      <th>502</th>\n",
       "      <td>0.04527</td>\n",
       "      <td>0.0</td>\n",
       "      <td>11.93</td>\n",
       "      <td>0</td>\n",
       "      <td>0.573</td>\n",
       "      <td>6.120</td>\n",
       "      <td>76.7</td>\n",
       "      <td>2.2875</td>\n",
       "      <td>1</td>\n",
       "      <td>273</td>\n",
       "      <td>21.0</td>\n",
       "      <td>396.90</td>\n",
       "      <td>9.08</td>\n",
       "      <td>20.6</td>\n",
       "    </tr>\n",
       "    <tr>\n",
       "      <th>503</th>\n",
       "      <td>0.06076</td>\n",
       "      <td>0.0</td>\n",
       "      <td>11.93</td>\n",
       "      <td>0</td>\n",
       "      <td>0.573</td>\n",
       "      <td>6.976</td>\n",
       "      <td>91.0</td>\n",
       "      <td>2.1675</td>\n",
       "      <td>1</td>\n",
       "      <td>273</td>\n",
       "      <td>21.0</td>\n",
       "      <td>396.90</td>\n",
       "      <td>5.64</td>\n",
       "      <td>23.9</td>\n",
       "    </tr>\n",
       "    <tr>\n",
       "      <th>504</th>\n",
       "      <td>0.10959</td>\n",
       "      <td>0.0</td>\n",
       "      <td>11.93</td>\n",
       "      <td>0</td>\n",
       "      <td>0.573</td>\n",
       "      <td>6.794</td>\n",
       "      <td>89.3</td>\n",
       "      <td>2.3889</td>\n",
       "      <td>1</td>\n",
       "      <td>273</td>\n",
       "      <td>21.0</td>\n",
       "      <td>393.45</td>\n",
       "      <td>6.48</td>\n",
       "      <td>22.0</td>\n",
       "    </tr>\n",
       "    <tr>\n",
       "      <th>505</th>\n",
       "      <td>0.04741</td>\n",
       "      <td>0.0</td>\n",
       "      <td>11.93</td>\n",
       "      <td>0</td>\n",
       "      <td>0.573</td>\n",
       "      <td>6.030</td>\n",
       "      <td>80.8</td>\n",
       "      <td>2.5050</td>\n",
       "      <td>1</td>\n",
       "      <td>273</td>\n",
       "      <td>21.0</td>\n",
       "      <td>396.90</td>\n",
       "      <td>7.88</td>\n",
       "      <td>11.9</td>\n",
       "    </tr>\n",
       "  </tbody>\n",
       "</table>\n",
       "<p>506 rows × 14 columns</p>\n",
       "</div>"
      ],
      "text/plain": [
       "        CRIM    ZN  INDUS  CHAS    NOX     RM   AGE     DIS  RAD  TAX  \\\n",
       "0    0.00632  18.0   2.31     0  0.538  6.575  65.2  4.0900    1  296   \n",
       "1    0.02731   0.0   7.07     0  0.469  6.421  78.9  4.9671    2  242   \n",
       "2    0.02729   0.0   7.07     0  0.469  7.185  61.1  4.9671    2  242   \n",
       "3    0.03237   0.0   2.18     0  0.458  6.998  45.8  6.0622    3  222   \n",
       "4    0.06905   0.0   2.18     0  0.458  7.147  54.2  6.0622    3  222   \n",
       "..       ...   ...    ...   ...    ...    ...   ...     ...  ...  ...   \n",
       "501  0.06263   0.0  11.93     0  0.573  6.593  69.1  2.4786    1  273   \n",
       "502  0.04527   0.0  11.93     0  0.573  6.120  76.7  2.2875    1  273   \n",
       "503  0.06076   0.0  11.93     0  0.573  6.976  91.0  2.1675    1  273   \n",
       "504  0.10959   0.0  11.93     0  0.573  6.794  89.3  2.3889    1  273   \n",
       "505  0.04741   0.0  11.93     0  0.573  6.030  80.8  2.5050    1  273   \n",
       "\n",
       "     PTRATIO       B  LSTAT  PRICE  \n",
       "0       15.3  396.90   4.98   24.0  \n",
       "1       17.8  396.90   9.14   21.6  \n",
       "2       17.8  392.83   4.03   34.7  \n",
       "3       18.7  394.63   2.94   33.4  \n",
       "4       18.7  396.90   5.33   36.2  \n",
       "..       ...     ...    ...    ...  \n",
       "501     21.0  391.99   9.67   22.4  \n",
       "502     21.0  396.90   9.08   20.6  \n",
       "503     21.0  396.90   5.64   23.9  \n",
       "504     21.0  393.45   6.48   22.0  \n",
       "505     21.0  396.90   7.88   11.9  \n",
       "\n",
       "[506 rows x 14 columns]"
      ]
     },
     "execution_count": 418,
     "metadata": {},
     "output_type": "execute_result"
    }
   ],
   "source": [
    "df"
   ]
  },
  {
   "cell_type": "code",
   "execution_count": 419,
   "metadata": {},
   "outputs": [],
   "source": [
    "# Write your code here\n",
    "df1=df[['CRIM','ZN','INDUS','RM','AGE','DIS','RAD','TAX','PTRATIO','PRICE']]"
   ]
  },
  {
   "cell_type": "code",
   "execution_count": 421,
   "metadata": {},
   "outputs": [],
   "source": [
    "import matplotlib.pyplot as plt"
   ]
  },
  {
   "cell_type": "code",
   "execution_count": 435,
   "metadata": {},
   "outputs": [
    {
     "data": {
      "image/png": "[encoded data removed]",
      "text/plain": [
       "<Figure size 432x288 with 1 Axes>"
      ]
     },
     "metadata": {
      "needs_background": "light"
     },
     "output_type": "display_data"
    },
    {
     "data": {
      "text/plain": [
       "<Figure size 432x288 with 0 Axes>"
      ]
     },
     "metadata": {},
     "output_type": "display_data"
    }
   ],
   "source": [
    "# histograms of all the variables \n",
    "\n",
    "plt.hist(df1,bins=20)\n",
    "\n",
    "f = plt.figure()\n",
    "plt.show()\n",
    "f.savefig(\"plot1.pdf\", bbox_inches='tight')"
   ]
  },
  {
   "cell_type": "code",
   "execution_count": 436,
   "metadata": {},
   "outputs": [
    {
     "data": {
      "image/png": "[encoded data removed]",
      "text/plain": [
       "<Figure size 432x288 with 1 Axes>"
      ]
     },
     "metadata": {
      "needs_background": "light"
     },
     "output_type": "display_data"
    },
    {
     "data": {
      "text/plain": [
       "<Figure size 432x288 with 0 Axes>"
      ]
     },
     "metadata": {},
     "output_type": "display_data"
    }
   ],
   "source": [
    "#  scatter plot of crime and price\n",
    "plt.scatter(np.log10(df1['CRIM']),df1['PRICE'],c='red')\n",
    "plt.title(\"Crime rate (Log) vs. Price plot\", fontsize=18)\n",
    "plt.xlabel(\"Log of Crime rate\",fontsize=15)\n",
    "plt.ylabel(\"Price\",fontsize=15)\n",
    "plt.grid(True)\n",
    "f = plt.figure()\n",
    "plt.show()\n",
    "f.savefig(\"plot2.pdf\", bbox_inches='tight')"
   ]
  },
  {
   "cell_type": "code",
   "execution_count": 425,
   "metadata": {},
   "outputs": [],
   "source": [
    "import matplotlib.pyplot as plt"
   ]
  },
  {
   "cell_type": "code",
   "execution_count": 437,
   "metadata": {},
   "outputs": [
    {
     "data": {
      "image/png": "[encoded data removed]",
      "text/plain": [
       "<Figure size 432x288 with 1 Axes>"
      ]
     },
     "metadata": {
      "needs_background": "light"
     },
     "output_type": "display_data"
    },
    {
     "data": {
      "text/plain": [
       "<Figure size 432x288 with 0 Axes>"
      ]
     },
     "metadata": {},
     "output_type": "display_data"
    }
   ],
   "source": [
    "# Scatter plot\n",
    "plt.scatter(df1['CRIM'],df1['PRICE'])\n",
    "f = plt.figure()\n",
    "plt.show()\n",
    "f.savefig(\"plot3.pdf\", bbox_inches='tight')"
   ]
  },
  {
   "cell_type": "code",
   "execution_count": 438,
   "metadata": {},
   "outputs": [
    {
     "data": {
      "image/png": "[encoded data removed]",
      "text/plain": [
       "<Figure size 432x288 with 1 Axes>"
      ]
     },
     "metadata": {
      "needs_background": "light"
     },
     "output_type": "display_data"
    },
    {
     "data": {
      "text/plain": [
       "<Figure size 432x288 with 0 Axes>"
      ]
     },
     "metadata": {},
     "output_type": "display_data"
    }
   ],
   "source": [
    "#default bar chart\n",
    "plt.bar(df1['CRIM'], df1['PRICE'])\n",
    "plt.title('Crime vs Price')\n",
    "plt.xlabel('Crime')\n",
    "plt.ylabel(' Price')\n",
    "f = plt.figure()\n",
    "plt.show()\n",
    "f.savefig(\"plot4.pdf\", bbox_inches='tight')"
   ]
  },
  {
   "cell_type": "code",
   "execution_count": 433,
   "metadata": {},
   "outputs": [
    {
     "data": {
      "text/plain": [
       "<AxesSubplot:>"
      ]
     },
     "execution_count": 433,
     "metadata": {},
     "output_type": "execute_result"
    },
    {
     "data": {
      "image/png": "[encoded data removed]",
      "text/plain": [
       "<Figure size 432x288 with 1 Axes>"
      ]
     },
     "metadata": {
      "needs_background": "light"
     },
     "output_type": "display_data"
    }
   ],
   "source": [
    "#Histogram\n",
    "df1['AGE'].hist(bins=20)"
   ]
  },
  {
   "cell_type": "code",
   "execution_count": null,
   "metadata": {},
   "outputs": [],
   "source": []
  }
 ],
 "metadata": {
  "kernelspec": {
   "display_name": "Python 3",
   "language": "python",
   "name": "python3"
  },
  "language_info": {
   "codemirror_mode": {
    "name": "ipython",
    "version": 3
   },
   "file_extension": ".py",
   "mimetype": "text/x-python",
   "name": "python",
   "nbconvert_exporter": "python",
   "pygments_lexer": "ipython3",
   "version": "3.8.5"
  },
  "latex_envs": {
   "LaTeX_envs_menu_present": true,
   "autoclose": false,
   "autocomplete": true,
   "bibliofile": "biblio.bib",
   "cite_by": "apalike",
   "current_citInitial": 1,
   "eqLabelWithNumbers": true,
   "eqNumInitial": 1,
   "hotkeys": {
    "equation": "Ctrl-E",
    "itemize": "Ctrl-I"
   },
   "labels_anchors": false,
   "latex_user_defs": false,
   "report_style_numbering": false,
   "user_envs_cfg": false
  }
 },
 "nbformat": 4,
 "nbformat_minor": 2
}
