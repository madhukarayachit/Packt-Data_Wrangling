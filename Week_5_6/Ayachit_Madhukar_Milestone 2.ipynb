{
 "cells": [
  {
   "cell_type": "markdown",
   "metadata": {},
   "source": [
    "## Milestone 2 \n",
    "\n",
    "### Name         : Ayachit Madhukar  \n",
    "### Course       : DSC540 \n",
    "### Instructor  : Catherine Williams\n",
    "### Date           : 17 Apr 2021"
   ]
  },
  {
   "cell_type": "markdown",
   "metadata": {},
   "source": [
    "#### 1. Replace Headers \n",
    "#### 2. Format data into a more readable format\n",
    "#### 3. Identify outliers and bad data\n",
    "#### 4. Find duplicates\n",
    "#### 5. Fix casing or inconsistent values\n",
    "#### 6. Conduct Fuzzy Matching"
   ]
  },
  {
   "cell_type": "code",
   "execution_count": 2,
   "metadata": {},
   "outputs": [],
   "source": [
    "## Setting up environemnt\n",
    "import os\n",
    "os.getcwd() \n",
    "import sys\n",
    "sys.path.append('../data')"
   ]
  },
  {
   "cell_type": "code",
   "execution_count": 3,
   "metadata": {},
   "outputs": [],
   "source": [
    "## loading required libraries/modules\n",
    "import pandas as pd\n",
    "import numpy as np\n",
    "import matplotlib.pyplot as plt\n",
    "\n",
    "%matplotlib inline"
   ]
  },
  {
   "cell_type": "code",
   "execution_count": 4,
   "metadata": {},
   "outputs": [],
   "source": [
    "## readng .csv file and creating dataframe\n",
    "df = pd.read_csv(\"data/worldometer_coronavirus_summary_data.csv\")"
   ]
  },
  {
   "cell_type": "code",
   "execution_count": 5,
   "metadata": {},
   "outputs": [
    {
     "data": {
      "text/html": [
       "<div>\n",
       "<style scoped>\n",
       "    .dataframe tbody tr th:only-of-type {\n",
       "        vertical-align: middle;\n",
       "    }\n",
       "\n",
       "    .dataframe tbody tr th {\n",
       "        vertical-align: top;\n",
       "    }\n",
       "\n",
       "    .dataframe thead th {\n",
       "        text-align: right;\n",
       "    }\n",
       "</style>\n",
       "<table border=\"1\" class=\"dataframe\">\n",
       "  <thead>\n",
       "    <tr style=\"text-align: right;\">\n",
       "      <th></th>\n",
       "      <th>country</th>\n",
       "      <th>continent</th>\n",
       "      <th>total_confirmed</th>\n",
       "      <th>total_deaths</th>\n",
       "      <th>total_recovered</th>\n",
       "      <th>active_cases</th>\n",
       "      <th>serious_or_critical</th>\n",
       "      <th>total_cases_per_1m_population</th>\n",
       "      <th>total_deaths_per_1m_population</th>\n",
       "      <th>total_tests</th>\n",
       "      <th>total_tests_per_1m_population</th>\n",
       "      <th>population</th>\n",
       "    </tr>\n",
       "  </thead>\n",
       "  <tbody>\n",
       "    <tr>\n",
       "      <th>0</th>\n",
       "      <td>Afghanistan</td>\n",
       "      <td>Asia</td>\n",
       "      <td>57364</td>\n",
       "      <td>2529.0</td>\n",
       "      <td>52005.0</td>\n",
       "      <td>2830.0</td>\n",
       "      <td>1124.0</td>\n",
       "      <td>1448</td>\n",
       "      <td>64.0</td>\n",
       "      <td>371724.0</td>\n",
       "      <td>9385.0</td>\n",
       "      <td>39607351</td>\n",
       "    </tr>\n",
       "    <tr>\n",
       "      <th>1</th>\n",
       "      <td>Albania</td>\n",
       "      <td>Europe</td>\n",
       "      <td>128518</td>\n",
       "      <td>2321.0</td>\n",
       "      <td>98269.0</td>\n",
       "      <td>27928.0</td>\n",
       "      <td>18.0</td>\n",
       "      <td>44697</td>\n",
       "      <td>807.0</td>\n",
       "      <td>585329.0</td>\n",
       "      <td>203569.0</td>\n",
       "      <td>2875341</td>\n",
       "    </tr>\n",
       "    <tr>\n",
       "      <th>2</th>\n",
       "      <td>Algeria</td>\n",
       "      <td>Africa</td>\n",
       "      <td>118645</td>\n",
       "      <td>3134.0</td>\n",
       "      <td>82704.0</td>\n",
       "      <td>32807.0</td>\n",
       "      <td>14.0</td>\n",
       "      <td>2668</td>\n",
       "      <td>70.0</td>\n",
       "      <td>230861.0</td>\n",
       "      <td>5192.0</td>\n",
       "      <td>44465491</td>\n",
       "    </tr>\n",
       "    <tr>\n",
       "      <th>3</th>\n",
       "      <td>Andorra</td>\n",
       "      <td>Europe</td>\n",
       "      <td>12581</td>\n",
       "      <td>121.0</td>\n",
       "      <td>11890.0</td>\n",
       "      <td>570.0</td>\n",
       "      <td>12.0</td>\n",
       "      <td>162625</td>\n",
       "      <td>1564.0</td>\n",
       "      <td>193595.0</td>\n",
       "      <td>2502456.0</td>\n",
       "      <td>77362</td>\n",
       "    </tr>\n",
       "    <tr>\n",
       "      <th>4</th>\n",
       "      <td>Angola</td>\n",
       "      <td>Africa</td>\n",
       "      <td>23549</td>\n",
       "      <td>554.0</td>\n",
       "      <td>22093.0</td>\n",
       "      <td>902.0</td>\n",
       "      <td>15.0</td>\n",
       "      <td>700</td>\n",
       "      <td>16.0</td>\n",
       "      <td>443086.0</td>\n",
       "      <td>13165.0</td>\n",
       "      <td>33655110</td>\n",
       "    </tr>\n",
       "  </tbody>\n",
       "</table>\n",
       "</div>"
      ],
      "text/plain": [
       "       country continent  total_confirmed  total_deaths  total_recovered  \\\n",
       "0  Afghanistan      Asia            57364        2529.0          52005.0   \n",
       "1      Albania    Europe           128518        2321.0          98269.0   \n",
       "2      Algeria    Africa           118645        3134.0          82704.0   \n",
       "3      Andorra    Europe            12581         121.0          11890.0   \n",
       "4       Angola    Africa            23549         554.0          22093.0   \n",
       "\n",
       "   active_cases  serious_or_critical  total_cases_per_1m_population  \\\n",
       "0        2830.0               1124.0                           1448   \n",
       "1       27928.0                 18.0                          44697   \n",
       "2       32807.0                 14.0                           2668   \n",
       "3         570.0                 12.0                         162625   \n",
       "4         902.0                 15.0                            700   \n",
       "\n",
       "   total_deaths_per_1m_population  total_tests  total_tests_per_1m_population  \\\n",
       "0                            64.0     371724.0                         9385.0   \n",
       "1                           807.0     585329.0                       203569.0   \n",
       "2                            70.0     230861.0                         5192.0   \n",
       "3                          1564.0     193595.0                      2502456.0   \n",
       "4                            16.0     443086.0                        13165.0   \n",
       "\n",
       "   population  \n",
       "0    39607351  \n",
       "1     2875341  \n",
       "2    44465491  \n",
       "3       77362  \n",
       "4    33655110  "
      ]
     },
     "execution_count": 5,
     "metadata": {},
     "output_type": "execute_result"
    }
   ],
   "source": [
    "df.head()"
   ]
  },
  {
   "cell_type": "code",
   "execution_count": 29,
   "metadata": {},
   "outputs": [
    {
     "data": {
      "text/plain": [
       "(0, 12)"
      ]
     },
     "execution_count": 29,
     "metadata": {},
     "output_type": "execute_result"
    }
   ],
   "source": [
    "# Checking duplicate rows\n",
    "df[df.duplicated()==True].shape"
   ]
  },
  {
   "cell_type": "code",
   "execution_count": 33,
   "metadata": {},
   "outputs": [
    {
     "data": {
      "text/plain": [
       "country                            object\n",
       "continent                          object\n",
       "total_confirmed                     int64\n",
       "total_deaths                      float64\n",
       "total_recovered                   float64\n",
       "active_cases                      float64\n",
       "serious_or_critical               float64\n",
       "total_cases_per_1m_population       int64\n",
       "total_deaths_per_1m_population    float64\n",
       "total_tests                       float64\n",
       "total_tests_per_1m_population     float64\n",
       "population                          int64\n",
       "dtype: object"
      ]
     },
     "execution_count": 33,
     "metadata": {},
     "output_type": "execute_result"
    }
   ],
   "source": [
    "# can be used to check data type mismatcg if exists\n",
    "df.dtypes"
   ]
  },
  {
   "cell_type": "code",
   "execution_count": 6,
   "metadata": {},
   "outputs": [
    {
     "name": "stdout",
     "output_type": "stream",
     "text": [
      "Country is duplictaed - False\n",
      "The column Country contains NaN - False \n",
      "The column population contains NaN - False \n",
      "The column total_tests contains NaN - True \n",
      "The column total_cases_per_1m_population contains NaN - False \n"
     ]
    }
   ],
   "source": [
    "### Identifying key data with duplicate and Null values\n",
    "print(\"Country is duplictaed - {}\".format(any(df.country.duplicated())))\n",
    "print(\"The column Country contains NaN - %r \" % df.country.isnull().values.any())\n",
    "print(\"The column population contains NaN - %r \" % df.population.isnull().values.any())\n",
    "print(\"The column total_tests contains NaN - %r \" % df.total_tests.isnull().values.any())\n",
    "print(\"The column total_cases_per_1m_population contains NaN - %r \" % df.total_cases_per_1m_population.isnull().values.any())"
   ]
  },
  {
   "cell_type": "code",
   "execution_count": 7,
   "metadata": {},
   "outputs": [
    {
     "data": {
      "text/plain": [
       "(219, 12)"
      ]
     },
     "execution_count": 7,
     "metadata": {},
     "output_type": "execute_result"
    }
   ],
   "source": [
    "df.shape\n"
   ]
  },
  {
   "cell_type": "code",
   "execution_count": 24,
   "metadata": {},
   "outputs": [
    {
     "data": {
      "text/plain": [
       "(9, 12)"
      ]
     },
     "execution_count": 24,
     "metadata": {},
     "output_type": "execute_result"
    }
   ],
   "source": [
    "## Could have filtered data like below if  \"Total_tests\" is the key field for analysis\n",
    "\n",
    "filter_null=pd.isnull(df.total_tests)\n",
    "new_df=df[filter_null]\n",
    "new_df.shape"
   ]
  },
  {
   "cell_type": "code",
   "execution_count": 10,
   "metadata": {},
   "outputs": [
    {
     "name": "stdout",
     "output_type": "stream",
     "text": [
      "Collecting python-levenshtein\n",
      "  Downloading python-Levenshtein-0.12.2.tar.gz (50 kB)\n",
      "\u001b[K     |████████████████████████████████| 50 kB 2.1 MB/s eta 0:00:01\n",
      "\u001b[?25hRequirement already satisfied: setuptools in /Users/madhukarayachit/opt/anaconda3/lib/python3.8/site-packages (from python-levenshtein) (50.3.1.post20201107)\n",
      "Building wheels for collected packages: python-levenshtein\n",
      "  Building wheel for python-levenshtein (setup.py) ... \u001b[?25ldone\n",
      "\u001b[?25h  Created wheel for python-levenshtein: filename=python_Levenshtein-0.12.2-cp38-cp38-macosx_10_9_x86_64.whl size=81458 sha256=df370a3e1c128a6ef316b2ff6454dd83c7dbb33dcd298ab2694fd6bdde0b5592\n",
      "  Stored in directory: /Users/madhukarayachit/Library/Caches/pip/wheels/d7/0c/76/042b46eb0df65c3ccd0338f791210c55ab79d209bcc269e2c7\n",
      "Successfully built python-levenshtein\n",
      "Installing collected packages: python-levenshtein\n",
      "Successfully installed python-levenshtein-0.12.2\n",
      "Note: you may need to restart the kernel to use updated packages.\n"
     ]
    }
   ],
   "source": [
    "## Installing python-levenshtein\n",
    "pip install python-levenshtein"
   ]
  },
  {
   "cell_type": "markdown",
   "metadata": {},
   "source": [
    "### Fuzzy Matching"
   ]
  },
  {
   "cell_type": "code",
   "execution_count": 19,
   "metadata": {},
   "outputs": [],
   "source": [
    "# Importing module\n",
    "from Levenshtein import distance\n"
   ]
  },
  {
   "cell_type": "code",
   "execution_count": 18,
   "metadata": {},
   "outputs": [
    {
     "name": "stdout",
     "output_type": "stream",
     "text": [
      "Nigeria Algeria 2\n",
      "Cuba Aruba 2\n",
      "Austria Australia 2\n",
      "Australia Austria 2\n",
      "Panama Canada 2\n",
      "China Chile 2\n",
      "Chile China 2\n",
      "Ghana China 2\n",
      "Togo Congo 2\n",
      "Aruba Cuba 2\n",
      "Namibia Gambia 2\n",
      "Zambia Gambia 1\n",
      "China Ghana 2\n",
      "Guyana Ghana 2\n",
      "Ghana Guyana 2\n",
      "Ireland Iceland 1\n",
      "Iraq Iran 1\n",
      "Oman Iran 2\n",
      "Iran Iraq 1\n",
      "Iceland Ireland 1\n",
      "Nigeria Liberia 2\n",
      "Mali Malawi 2\n",
      "Malawi Mali 2\n",
      "Malta Mali 2\n",
      "Mali Malta 2\n",
      "Gambia Namibia 2\n",
      "Zambia Namibia 2\n",
      "Nigeria Niger 2\n",
      "Algeria Nigeria 2\n",
      "Liberia Nigeria 2\n",
      "Niger Nigeria 2\n",
      "Iran Oman 2\n",
      "Canada Panama 2\n",
      "Somalia Romania 2\n",
      "Uganda Rwanda 2\n",
      "Syria Serbia 2\n",
      "Slovenia Slovakia 2\n",
      "Slovakia Slovenia 2\n",
      "Romania Somalia 2\n",
      "Serbia Syria 2\n",
      "Congo Togo 2\n",
      "Rwanda Uganda 2\n",
      "USA UK 2\n",
      "UK USA 2\n",
      "Gambia Zambia 1\n",
      "Namibia Zambia 2\n"
     ]
    }
   ],
   "source": [
    "# narrow down list of possible mannual errors by looking at distace between 1-3 for each entry. \n",
    "# With manual inspection of a shorter list did not find any mistake in country name \n",
    "\n",
    "for cntry in df.country: \n",
    "    #print(cntry)\n",
    "    for c in df.country: \n",
    "        l=distance(c,cntry)\n",
    "        if l>0 and l<3: \n",
    "            print(c , cntry ,l)\n"
   ]
  },
  {
   "cell_type": "code",
   "execution_count": null,
   "metadata": {},
   "outputs": [],
   "source": []
  }
 ],
 "metadata": {
  "kernelspec": {
   "display_name": "Python 3",
   "language": "python",
   "name": "python3"
  },
  "language_info": {
   "codemirror_mode": {
    "name": "ipython",
    "version": 3
   },
   "file_extension": ".py",
   "mimetype": "text/x-python",
   "name": "python",
   "nbconvert_exporter": "python",
   "pygments_lexer": "ipython3",
   "version": "3.8.5"
  }
 },
 "nbformat": 4,
 "nbformat_minor": 4
}
